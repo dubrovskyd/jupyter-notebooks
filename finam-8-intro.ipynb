{
 "cells": [
  {
   "cell_type": "markdown",
   "metadata": {
    "nbpresent": {
     "id": "42ec5a28-068f-4ece-85d4-89045717b3d6"
    }
   },
   "source": [
    "# Школа алготрейдеров. Блок торгового ПО и программирования\n",
    "## Занятие 8. Использование системы Quanteon"
   ]
  },
  {
   "cell_type": "markdown",
   "metadata": {},
   "source": [
    "## Введение"
   ]
  },
  {
   "cell_type": "markdown",
   "metadata": {},
   "source": [
    "### Установка среды PyCharm\n",
    "\n",
    "1. Перейдите по ссылке [http://jetbrains.ru/products/pycharm](http://jetbrains.ru/products/pycharm/)\n",
    "1. Нажмите на кнопку «Загрузить PyCharm», выберите Community Edition (бесплатную версию)\n",
    "1. Если при установке вам предложат выбрать интерпретатор питона, выберите тот, что стоит с Анакондой"
   ]
  },
  {
   "cell_type": "markdown",
   "metadata": {},
   "source": [
    "### Настройка Python 2.7 в консоли (рекомендуется)\n",
    "\n",
    "1. Откройте консоль (Пуск → Командная строка или Win+R → cmd в Windows)\n",
    "2. Введите команду `conda create --name py2 python=2.7 numpy scipy pandas matplotlib pyqt=4`\n",
    "1. Установите PyCharm\n",
    "1. File → Settings → Project X → Project Interpreter → выберите нужный интерпретатор\n",
    "\n",
    "Если вам необходимо поставить дополнительные пакеты после создания окружения, перед выполнением `conda install` нужно перейти в соответствующее окружение с помощью команды `activate py2` (`source activate py2` в MacOS и Linux)."
   ]
  },
  {
   "cell_type": "markdown",
   "metadata": {},
   "source": [
    "### Настройка Python 2.7 в PyCharm (если в консоли не получилось)\n",
    "\n",
    "1. File → Settings → Project X → Project Interpreter\n",
    "1. Настройки → Create Conda env\n",
    "1. Укажите название (например, `py27`) и версию питона (2.7), поставьте флажок «Make available for all projects»\n",
    "1. Установите пакеты numpy, scipy, matplotlib и pandas"
   ]
  },
  {
   "cell_type": "markdown",
   "metadata": {},
   "source": [
    "### Проверка работоспособности\n",
    "\n",
    "1. Создайте новый проект (File → New Project)\n",
    "2. Импортируйте модули `numpy` и `matplotlib`\n",
    "3. Запустите программу (Run)"
   ]
  }
 ],
 "metadata": {
  "anaconda-cloud": {},
  "kernelspec": {
   "display_name": "Python [Root]",
   "language": "python",
   "name": "Python [Root]"
  },
  "language_info": {
   "codemirror_mode": {
    "name": "ipython",
    "version": 3
   },
   "file_extension": ".py",
   "mimetype": "text/x-python",
   "name": "python",
   "nbconvert_exporter": "python",
   "pygments_lexer": "ipython3",
   "version": "3.5.2"
  },
  "nbpresent": {
   "slides": {
    "f2275b60-4dc1-47e6-95c2-f88fdfecd468": {
     "id": "f2275b60-4dc1-47e6-95c2-f88fdfecd468",
     "layout": "manual",
     "prev": null,
     "regions": {}
    }
   },
   "themes": {}
  }
 },
 "nbformat": 4,
 "nbformat_minor": 0
}
