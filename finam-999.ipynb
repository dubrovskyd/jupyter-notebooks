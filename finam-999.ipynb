{
 "cells": [
  {
   "cell_type": "markdown",
   "metadata": {
    "nbpresent": {
     "id": "42ec5a28-068f-4ece-85d4-89045717b3d6"
    }
   },
   "source": [
    "# Школа алготрейдеров. Блок торгового ПО и программирования\n",
    "## Дополнительный материал. Оптимизация кода на языке Python"
   ]
  },
  {
   "cell_type": "markdown",
   "metadata": {},
   "source": [
    "### JIT-компиляция с помощью [Numba](http://numba.pydata.org)"
   ]
  },
  {
   "cell_type": "code",
   "execution_count": 2,
   "metadata": {
    "collapsed": true
   },
   "outputs": [],
   "source": [
    "import random\n",
    "import numpy as np\n",
    "from numba import jit"
   ]
  },
  {
   "cell_type": "markdown",
   "metadata": {},
   "source": [
    "#### Обычный интерпретируемый код"
   ]
  },
  {
   "cell_type": "code",
   "execution_count": 11,
   "metadata": {
    "collapsed": false
   },
   "outputs": [],
   "source": [
    "def make_next(x):\n",
    "    return x * random.normalvariate(1, 2) + random.randint(-1, 1)\n",
    "\n",
    "def generate(n):\n",
    "    numbers = np.empty(n)\n",
    "    numbers[0] = 0\n",
    "    for i in range(1, n):\n",
    "        numbers[i] = make_next(numbers[i - 1])\n",
    "        if numbers[i] > 10 * n:\n",
    "            numbers[i] = 0\n",
    "    return numbers"
   ]
  },
  {
   "cell_type": "code",
   "execution_count": 13,
   "metadata": {
    "collapsed": false
   },
   "outputs": [
    {
     "data": {
      "text/plain": [
       "array([  0.        ,   0.        ,   1.        ,   0.77784523,\n",
       "         1.81553582,   3.26540123,   7.23363826,  10.83062128,\n",
       "        29.5585698 ,  75.81483405])"
      ]
     },
     "execution_count": 13,
     "metadata": {},
     "output_type": "execute_result"
    }
   ],
   "source": [
    "generate(10)"
   ]
  },
  {
   "cell_type": "code",
   "execution_count": 14,
   "metadata": {
    "collapsed": false
   },
   "outputs": [
    {
     "name": "stdout",
     "output_type": "stream",
     "text": [
      "10 loops, best of 3: 111 ms per loop\n"
     ]
    }
   ],
   "source": [
    "%%timeit\n",
    "generate(10000)"
   ]
  },
  {
   "cell_type": "markdown",
   "metadata": {},
   "source": [
    "#### JIT-скомпилированный код"
   ]
  },
  {
   "cell_type": "code",
   "execution_count": 24,
   "metadata": {
    "collapsed": true
   },
   "outputs": [],
   "source": [
    "@jit(nopython=True)\n",
    "def make_next_nb(x):\n",
    "    return x * random.normalvariate(1, 2) + random.randint(-1, 1)\n",
    "\n",
    "@jit(nopython=True)\n",
    "def generate_nb(n):\n",
    "    numbers = np.empty(n)\n",
    "    numbers[0] = 0\n",
    "    for i in range(1, n):\n",
    "        numbers[i] = make_next_nb(numbers[i - 1])\n",
    "        if numbers[i] > 10 * n:\n",
    "            numbers[i] = 0\n",
    "    return numbers"
   ]
  },
  {
   "cell_type": "code",
   "execution_count": 25,
   "metadata": {
    "collapsed": false
   },
   "outputs": [
    {
     "name": "stdout",
     "output_type": "stream",
     "text": [
      "The slowest run took 336.38 times longer than the fastest. This could mean that an intermediate result is being cached.\n",
      "1 loop, best of 3: 609 µs per loop\n"
     ]
    }
   ],
   "source": [
    "%%timeit\n",
    "generate_nb(10000)"
   ]
  },
  {
   "cell_type": "markdown",
   "metadata": {},
   "source": [
    "При первом вызове функции компилируются и в дальнейшем выполняются значительно быстрее."
   ]
  },
  {
   "cell_type": "markdown",
   "metadata": {},
   "source": [
    "### Использование [Cython](http://docs.cython.org/en/latest/)"
   ]
  }
 ],
 "metadata": {
  "anaconda-cloud": {},
  "kernelspec": {
   "display_name": "Python [Root]",
   "language": "python",
   "name": "Python [Root]"
  },
  "language_info": {
   "codemirror_mode": {
    "name": "ipython",
    "version": 3
   },
   "file_extension": ".py",
   "mimetype": "text/x-python",
   "name": "python",
   "nbconvert_exporter": "python",
   "pygments_lexer": "ipython3",
   "version": "3.5.2"
  },
  "nbpresent": {
   "slides": {
    "f2275b60-4dc1-47e6-95c2-f88fdfecd468": {
     "id": "f2275b60-4dc1-47e6-95c2-f88fdfecd468",
     "layout": "manual",
     "prev": null,
     "regions": {}
    }
   },
   "themes": {}
  }
 },
 "nbformat": 4,
 "nbformat_minor": 0
}
