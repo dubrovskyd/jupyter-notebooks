{
 "cells": [
  {
   "cell_type": "markdown",
   "metadata": {
    "nbpresent": {
     "id": "42ec5a28-068f-4ece-85d4-89045717b3d6"
    }
   },
   "source": [
    "# Школа алготрейдеров. Блок торгового ПО и программирования\n",
    "## Занятие 5. Библиотеки NumPy, SciPy и Matplotlib"
   ]
  },
  {
   "cell_type": "markdown",
   "metadata": {},
   "source": [
    "### [Библиотека Numpy](https://docs.scipy.org/doc/numpy/index.html)"
   ]
  },
  {
   "cell_type": "code",
   "execution_count": 2,
   "metadata": {
    "collapsed": true
   },
   "outputs": [],
   "source": [
    "import numpy as np"
   ]
  },
  {
   "cell_type": "markdown",
   "metadata": {},
   "source": [
    "#### Одномерные массивы ([`numpy.array`](https://docs.scipy.org/doc/numpy/reference/arrays.ndarray.html))"
   ]
  },
  {
   "cell_type": "code",
   "execution_count": 3,
   "metadata": {
    "collapsed": false
   },
   "outputs": [
    {
     "data": {
      "text/plain": [
       "array([2, 3, 9])"
      ]
     },
     "execution_count": 3,
     "metadata": {},
     "output_type": "execute_result"
    }
   ],
   "source": [
    "a = np.array([2, 3, 9])\n",
    "a"
   ]
  },
  {
   "cell_type": "code",
   "execution_count": 4,
   "metadata": {
    "collapsed": false
   },
   "outputs": [
    {
     "data": {
      "text/plain": [
       "array([ 2.,  3.,  9.])"
      ]
     },
     "execution_count": 4,
     "metadata": {},
     "output_type": "execute_result"
    }
   ],
   "source": [
    "b = np.array([2, 3.0, 9])\n",
    "b"
   ]
  },
  {
   "cell_type": "code",
   "execution_count": 5,
   "metadata": {
    "collapsed": false
   },
   "outputs": [
    {
     "data": {
      "text/plain": [
       "3"
      ]
     },
     "execution_count": 5,
     "metadata": {},
     "output_type": "execute_result"
    }
   ],
   "source": [
    "len(b)"
   ]
  },
  {
   "cell_type": "code",
   "execution_count": 6,
   "metadata": {
    "collapsed": false
   },
   "outputs": [
    {
     "data": {
      "text/plain": [
       "3"
      ]
     },
     "execution_count": 6,
     "metadata": {},
     "output_type": "execute_result"
    }
   ],
   "source": [
    "b.size"
   ]
  },
  {
   "cell_type": "code",
   "execution_count": 7,
   "metadata": {
    "collapsed": false
   },
   "outputs": [
    {
     "data": {
      "text/plain": [
       "1"
      ]
     },
     "execution_count": 7,
     "metadata": {},
     "output_type": "execute_result"
    }
   ],
   "source": [
    "b.ndim"
   ]
  },
  {
   "cell_type": "code",
   "execution_count": 8,
   "metadata": {
    "collapsed": false
   },
   "outputs": [
    {
     "data": {
      "text/plain": [
       "(3,)"
      ]
     },
     "execution_count": 8,
     "metadata": {},
     "output_type": "execute_result"
    }
   ],
   "source": [
    "b.shape"
   ]
  },
  {
   "cell_type": "code",
   "execution_count": 9,
   "metadata": {
    "collapsed": false
   },
   "outputs": [
    {
     "data": {
      "text/plain": [
       "dtype('float64')"
      ]
     },
     "execution_count": 9,
     "metadata": {},
     "output_type": "execute_result"
    }
   ],
   "source": [
    "b.dtype"
   ]
  },
  {
   "cell_type": "code",
   "execution_count": 10,
   "metadata": {
    "collapsed": false
   },
   "outputs": [
    {
     "data": {
      "text/plain": [
       "8"
      ]
     },
     "execution_count": 10,
     "metadata": {},
     "output_type": "execute_result"
    }
   ],
   "source": [
    "b.itemsize"
   ]
  },
  {
   "cell_type": "code",
   "execution_count": 11,
   "metadata": {
    "collapsed": false
   },
   "outputs": [
    {
     "data": {
      "text/plain": [
       "[2.0, 3.0, 9.0]"
      ]
     },
     "execution_count": 11,
     "metadata": {},
     "output_type": "execute_result"
    }
   ],
   "source": [
    "list(b)"
   ]
  },
  {
   "cell_type": "code",
   "execution_count": 12,
   "metadata": {
    "collapsed": false
   },
   "outputs": [
    {
     "data": {
      "text/plain": [
       "array([2, 3, 9], dtype=int8)"
      ]
     },
     "execution_count": 12,
     "metadata": {},
     "output_type": "execute_result"
    }
   ],
   "source": [
    "c = np.array((2, 3.8, 9), dtype=np.int8)\n",
    "c"
   ]
  },
  {
   "cell_type": "code",
   "execution_count": 13,
   "metadata": {
    "collapsed": false
   },
   "outputs": [
    {
     "data": {
      "text/plain": [
       "3"
      ]
     },
     "execution_count": 13,
     "metadata": {},
     "output_type": "execute_result"
    }
   ],
   "source": [
    "c.nbytes"
   ]
  },
  {
   "cell_type": "markdown",
   "metadata": {},
   "source": [
    "#### [Простые типы данных (скаляры)](https://docs.scipy.org/doc/numpy/reference/arrays.scalars.html#arrays-scalars-built-in)"
   ]
  },
  {
   "cell_type": "code",
   "execution_count": 14,
   "metadata": {
    "collapsed": false
   },
   "outputs": [
    {
     "data": {
      "text/plain": [
       "5"
      ]
     },
     "execution_count": 14,
     "metadata": {},
     "output_type": "execute_result"
    }
   ],
   "source": [
    "np.int8(5)"
   ]
  },
  {
   "cell_type": "code",
   "execution_count": 15,
   "metadata": {
    "collapsed": false
   },
   "outputs": [
    {
     "data": {
      "text/plain": [
       "1"
      ]
     },
     "execution_count": 15,
     "metadata": {},
     "output_type": "execute_result"
    }
   ],
   "source": [
    "np.int8(5).nbytes"
   ]
  },
  {
   "cell_type": "code",
   "execution_count": 16,
   "metadata": {
    "collapsed": false
   },
   "outputs": [
    {
     "data": {
      "text/plain": [
       "8"
      ]
     },
     "execution_count": 16,
     "metadata": {},
     "output_type": "execute_result"
    }
   ],
   "source": [
    "np.int64(5).nbytes"
   ]
  },
  {
   "cell_type": "code",
   "execution_count": 17,
   "metadata": {
    "collapsed": false
   },
   "outputs": [
    {
     "data": {
      "text/plain": [
       "4"
      ]
     },
     "execution_count": 17,
     "metadata": {},
     "output_type": "execute_result"
    }
   ],
   "source": [
    "np.float32(5).nbytes"
   ]
  },
  {
   "cell_type": "code",
   "execution_count": 18,
   "metadata": {
    "collapsed": false
   },
   "outputs": [
    {
     "data": {
      "text/plain": [
       "1"
      ]
     },
     "execution_count": 18,
     "metadata": {},
     "output_type": "execute_result"
    }
   ],
   "source": [
    "np.bool8(False).nbytes"
   ]
  },
  {
   "cell_type": "markdown",
   "metadata": {},
   "source": [
    "#### Составные типы данных ([`numpy.dtype`](https://docs.scipy.org/doc/numpy/reference/arrays.dtypes.html))"
   ]
  },
  {
   "cell_type": "code",
   "execution_count": 19,
   "metadata": {
    "collapsed": false
   },
   "outputs": [
    {
     "data": {
      "text/plain": [
       "array([(15432.900390625, 1), (15433.2001953125, 10), (15440.0, 7)], \n",
       "      dtype=[('Price', '<f4'), ('Volume', '<i8')])"
      ]
     },
     "execution_count": 19,
     "metadata": {},
     "output_type": "execute_result"
    }
   ],
   "source": [
    "a = np.array(\n",
    "    [(15432.9, 1), (15433.2, 10), (15440., 7)],\n",
    "    dtype=np.dtype([('Price', np.float32), ('Volume', np.int64)])\n",
    ")\n",
    "a"
   ]
  },
  {
   "cell_type": "code",
   "execution_count": 20,
   "metadata": {
    "collapsed": false
   },
   "outputs": [
    {
     "data": {
      "text/plain": [
       "36"
      ]
     },
     "execution_count": 20,
     "metadata": {},
     "output_type": "execute_result"
    }
   ],
   "source": [
    "a.nbytes"
   ]
  },
  {
   "cell_type": "code",
   "execution_count": 21,
   "metadata": {
    "collapsed": false
   },
   "outputs": [
    {
     "data": {
      "text/plain": [
       "(15432.900390625, 1)"
      ]
     },
     "execution_count": 21,
     "metadata": {},
     "output_type": "execute_result"
    }
   ],
   "source": [
    "a[0]"
   ]
  },
  {
   "cell_type": "code",
   "execution_count": 22,
   "metadata": {
    "collapsed": false
   },
   "outputs": [
    {
     "data": {
      "text/plain": [
       "15432.9"
      ]
     },
     "execution_count": 22,
     "metadata": {},
     "output_type": "execute_result"
    }
   ],
   "source": [
    "a[0]['Price']"
   ]
  },
  {
   "cell_type": "code",
   "execution_count": 23,
   "metadata": {
    "collapsed": false
   },
   "outputs": [
    {
     "data": {
      "text/plain": [
       "array([ 15432.90039062,  15433.20019531,  15440.        ], dtype=float32)"
      ]
     },
     "execution_count": 23,
     "metadata": {},
     "output_type": "execute_result"
    }
   ],
   "source": [
    "a['Price']"
   ]
  },
  {
   "cell_type": "code",
   "execution_count": 24,
   "metadata": {
    "collapsed": false
   },
   "outputs": [
    {
     "data": {
      "text/plain": [
       "array([ 1, 10,  7], dtype=int64)"
      ]
     },
     "execution_count": 24,
     "metadata": {},
     "output_type": "execute_result"
    }
   ],
   "source": [
    "a['Volume']"
   ]
  },
  {
   "cell_type": "markdown",
   "metadata": {},
   "source": [
    "#### Создание массивов"
   ]
  },
  {
   "cell_type": "code",
   "execution_count": 25,
   "metadata": {
    "collapsed": false
   },
   "outputs": [
    {
     "data": {
      "text/plain": [
       "array([ 0.,  0.,  0.,  0.,  0.,  0.,  0.,  0.])"
      ]
     },
     "execution_count": 25,
     "metadata": {},
     "output_type": "execute_result"
    }
   ],
   "source": [
    "np.zeros(8)"
   ]
  },
  {
   "cell_type": "code",
   "execution_count": 26,
   "metadata": {
    "collapsed": false
   },
   "outputs": [
    {
     "data": {
      "text/plain": [
       "array([ 1.,  1.,  1.,  1.,  1.,  1.])"
      ]
     },
     "execution_count": 26,
     "metadata": {},
     "output_type": "execute_result"
    }
   ],
   "source": [
    "np.ones(6)"
   ]
  },
  {
   "cell_type": "code",
   "execution_count": 27,
   "metadata": {
    "collapsed": false
   },
   "outputs": [
    {
     "data": {
      "text/plain": [
       "array([ 10. ,  10.7,  11.4,  12.1,  12.8,  13.5,  14.2,  14.9,  15.6,\n",
       "        16.3,  17. ,  17.7,  18.4,  19.1,  19.8])"
      ]
     },
     "execution_count": 27,
     "metadata": {},
     "output_type": "execute_result"
    }
   ],
   "source": [
    "np.arange(10, 20, 0.7)"
   ]
  },
  {
   "cell_type": "code",
   "execution_count": 28,
   "metadata": {
    "collapsed": false
   },
   "outputs": [
    {
     "data": {
      "text/plain": [
       "array([ 10.  ,  11.25,  12.5 ,  13.75,  15.  ,  16.25,  17.5 ,  18.75,  20.  ])"
      ]
     },
     "execution_count": 28,
     "metadata": {},
     "output_type": "execute_result"
    }
   ],
   "source": [
    "np.linspace(10, 20, 9)"
   ]
  },
  {
   "cell_type": "markdown",
   "metadata": {},
   "source": [
    "#### Многомерные массивы"
   ]
  },
  {
   "cell_type": "code",
   "execution_count": 29,
   "metadata": {
    "collapsed": false
   },
   "outputs": [
    {
     "data": {
      "text/plain": [
       "array([[2, 0, 3],\n",
       "       [8, 2, 1]])"
      ]
     },
     "execution_count": 29,
     "metadata": {},
     "output_type": "execute_result"
    }
   ],
   "source": [
    "a = np.array([[2, 0, 3], [8, 2, 1]])\n",
    "a"
   ]
  },
  {
   "cell_type": "code",
   "execution_count": 30,
   "metadata": {
    "collapsed": false
   },
   "outputs": [
    {
     "data": {
      "text/plain": [
       "(2, 3)"
      ]
     },
     "execution_count": 30,
     "metadata": {},
     "output_type": "execute_result"
    }
   ],
   "source": [
    "a.shape"
   ]
  },
  {
   "cell_type": "code",
   "execution_count": 31,
   "metadata": {
    "collapsed": false
   },
   "outputs": [
    {
     "data": {
      "text/plain": [
       "array([8, 2, 1])"
      ]
     },
     "execution_count": 31,
     "metadata": {},
     "output_type": "execute_result"
    }
   ],
   "source": [
    "a[1]"
   ]
  },
  {
   "cell_type": "code",
   "execution_count": 32,
   "metadata": {
    "collapsed": false
   },
   "outputs": [
    {
     "data": {
      "text/plain": [
       "1"
      ]
     },
     "execution_count": 32,
     "metadata": {},
     "output_type": "execute_result"
    }
   ],
   "source": [
    "a[1, -1]"
   ]
  },
  {
   "cell_type": "code",
   "execution_count": 33,
   "metadata": {
    "collapsed": false
   },
   "outputs": [
    {
     "data": {
      "text/plain": [
       "array([2, 1])"
      ]
     },
     "execution_count": 33,
     "metadata": {},
     "output_type": "execute_result"
    }
   ],
   "source": [
    "a[1, 1:]"
   ]
  },
  {
   "cell_type": "code",
   "execution_count": 34,
   "metadata": {
    "collapsed": false
   },
   "outputs": [
    {
     "data": {
      "text/plain": [
       "array([[2, 0],\n",
       "       [8, 2]])"
      ]
     },
     "execution_count": 34,
     "metadata": {},
     "output_type": "execute_result"
    }
   ],
   "source": [
    "a[:, :-1]"
   ]
  },
  {
   "cell_type": "code",
   "execution_count": 35,
   "metadata": {
    "collapsed": false
   },
   "outputs": [
    {
     "data": {
      "text/plain": [
       "array([[ 1.,  0.,  0.,  0.],\n",
       "       [ 0.,  1.,  0.,  0.],\n",
       "       [ 0.,  0.,  1.,  0.],\n",
       "       [ 0.,  0.,  0.,  1.]])"
      ]
     },
     "execution_count": 35,
     "metadata": {},
     "output_type": "execute_result"
    }
   ],
   "source": [
    "np.identity(4)"
   ]
  },
  {
   "cell_type": "markdown",
   "metadata": {},
   "source": [
    "#### Операции с массивами"
   ]
  },
  {
   "cell_type": "code",
   "execution_count": 36,
   "metadata": {
    "collapsed": false
   },
   "outputs": [
    {
     "data": {
      "text/plain": [
       "array([ 18. ,  32.4,  81. ,   6.3])"
      ]
     },
     "execution_count": 36,
     "metadata": {},
     "output_type": "execute_result"
    }
   ],
   "source": [
    "a = np.array([2, 3.6, 9, .7])\n",
    "b = a * 9\n",
    "b"
   ]
  },
  {
   "cell_type": "code",
   "execution_count": 37,
   "metadata": {
    "collapsed": false
   },
   "outputs": [
    {
     "data": {
      "text/plain": [
       "array([ 20.,  36.,  90.,   7.])"
      ]
     },
     "execution_count": 37,
     "metadata": {},
     "output_type": "execute_result"
    }
   ],
   "source": [
    "a + b"
   ]
  },
  {
   "cell_type": "code",
   "execution_count": 38,
   "metadata": {
    "collapsed": false
   },
   "outputs": [
    {
     "data": {
      "text/plain": [
       "array([  2. , -10. , -10. ,   0.7])"
      ]
     },
     "execution_count": 38,
     "metadata": {},
     "output_type": "execute_result"
    }
   ],
   "source": [
    "a[a > 3] = -10\n",
    "a"
   ]
  },
  {
   "cell_type": "code",
   "execution_count": 39,
   "metadata": {
    "collapsed": false
   },
   "outputs": [
    {
     "data": {
      "text/plain": [
       "-17.300000000000001"
      ]
     },
     "execution_count": 39,
     "metadata": {},
     "output_type": "execute_result"
    }
   ],
   "source": [
    "a.sum()"
   ]
  },
  {
   "cell_type": "code",
   "execution_count": 40,
   "metadata": {
    "collapsed": false
   },
   "outputs": [
    {
     "data": {
      "text/plain": [
       "5.6935819129964225"
      ]
     },
     "execution_count": 40,
     "metadata": {},
     "output_type": "execute_result"
    }
   ],
   "source": [
    "a.std()"
   ]
  },
  {
   "cell_type": "code",
   "execution_count": 41,
   "metadata": {
    "collapsed": false
   },
   "outputs": [
    {
     "data": {
      "text/plain": [
       "-4.3250000000000002"
      ]
     },
     "execution_count": 41,
     "metadata": {},
     "output_type": "execute_result"
    }
   ],
   "source": [
    "a.mean()"
   ]
  },
  {
   "cell_type": "code",
   "execution_count": 42,
   "metadata": {
    "collapsed": false
   },
   "outputs": [
    {
     "data": {
      "text/plain": [
       "-7.8599999999999977"
      ]
     },
     "execution_count": 42,
     "metadata": {},
     "output_type": "execute_result"
    }
   ],
   "source": [
    "np.percentile(a, q=40)"
   ]
  },
  {
   "cell_type": "code",
   "execution_count": 44,
   "metadata": {
    "collapsed": false
   },
   "outputs": [
    {
     "data": {
      "text/plain": [
       "array([  7.38905610e+00,   4.53999298e-05,   4.53999298e-05,\n",
       "         2.01375271e+00])"
      ]
     },
     "execution_count": 44,
     "metadata": {},
     "output_type": "execute_result"
    }
   ],
   "source": [
    "np.exp(a)"
   ]
  },
  {
   "cell_type": "markdown",
   "metadata": {},
   "source": [
    "### Pandas и Numpy"
   ]
  },
  {
   "cell_type": "code",
   "execution_count": 46,
   "metadata": {
    "collapsed": false
   },
   "outputs": [
    {
     "data": {
      "text/html": [
       "<div>\n",
       "<table border=\"1\" class=\"dataframe\">\n",
       "  <thead>\n",
       "    <tr style=\"text-align: right;\">\n",
       "      <th></th>\n",
       "      <th>Open</th>\n",
       "      <th>High</th>\n",
       "      <th>Low</th>\n",
       "      <th>Close</th>\n",
       "      <th>Volume</th>\n",
       "      <th>Adj Close</th>\n",
       "    </tr>\n",
       "    <tr>\n",
       "      <th>Date</th>\n",
       "      <th></th>\n",
       "      <th></th>\n",
       "      <th></th>\n",
       "      <th></th>\n",
       "      <th></th>\n",
       "      <th></th>\n",
       "    </tr>\n",
       "  </thead>\n",
       "  <tbody>\n",
       "    <tr>\n",
       "      <th>2012-06-01</th>\n",
       "      <td>569.159996</td>\n",
       "      <td>572.650009</td>\n",
       "      <td>560.520012</td>\n",
       "      <td>560.989983</td>\n",
       "      <td>130246900</td>\n",
       "      <td>73.371509</td>\n",
       "    </tr>\n",
       "    <tr>\n",
       "      <th>2012-06-04</th>\n",
       "      <td>561.500008</td>\n",
       "      <td>567.499985</td>\n",
       "      <td>548.499977</td>\n",
       "      <td>564.289978</td>\n",
       "      <td>139248900</td>\n",
       "      <td>73.803114</td>\n",
       "    </tr>\n",
       "    <tr>\n",
       "      <th>2012-06-05</th>\n",
       "      <td>561.269989</td>\n",
       "      <td>566.470001</td>\n",
       "      <td>558.330002</td>\n",
       "      <td>562.830025</td>\n",
       "      <td>97053600</td>\n",
       "      <td>73.612167</td>\n",
       "    </tr>\n",
       "    <tr>\n",
       "      <th>2012-06-06</th>\n",
       "      <td>567.770004</td>\n",
       "      <td>573.849983</td>\n",
       "      <td>565.499992</td>\n",
       "      <td>571.460022</td>\n",
       "      <td>100363900</td>\n",
       "      <td>74.740879</td>\n",
       "    </tr>\n",
       "    <tr>\n",
       "      <th>2012-06-07</th>\n",
       "      <td>577.290009</td>\n",
       "      <td>577.320023</td>\n",
       "      <td>570.500000</td>\n",
       "      <td>571.720001</td>\n",
       "      <td>94941700</td>\n",
       "      <td>74.774881</td>\n",
       "    </tr>\n",
       "  </tbody>\n",
       "</table>\n",
       "</div>"
      ],
      "text/plain": [
       "                  Open        High         Low       Close     Volume  \\\n",
       "Date                                                                    \n",
       "2012-06-01  569.159996  572.650009  560.520012  560.989983  130246900   \n",
       "2012-06-04  561.500008  567.499985  548.499977  564.289978  139248900   \n",
       "2012-06-05  561.269989  566.470001  558.330002  562.830025   97053600   \n",
       "2012-06-06  567.770004  573.849983  565.499992  571.460022  100363900   \n",
       "2012-06-07  577.290009  577.320023  570.500000  571.720001   94941700   \n",
       "\n",
       "            Adj Close  \n",
       "Date                   \n",
       "2012-06-01  73.371509  \n",
       "2012-06-04  73.803114  \n",
       "2012-06-05  73.612167  \n",
       "2012-06-06  74.740879  \n",
       "2012-06-07  74.774881  "
      ]
     },
     "execution_count": 46,
     "metadata": {},
     "output_type": "execute_result"
    }
   ],
   "source": [
    "from pandas_datareader import data\n",
    "from datetime import datetime\n",
    "yahoo_aapl = data.DataReader('aapl', 'yahoo', datetime(2012, 6, 1), datetime(2016, 8, 30))\n",
    "yahoo_aapl.head()"
   ]
  },
  {
   "cell_type": "code",
   "execution_count": 49,
   "metadata": {
    "collapsed": false
   },
   "outputs": [
    {
     "data": {
      "text/html": [
       "<div>\n",
       "<table border=\"1\" class=\"dataframe\">\n",
       "  <thead>\n",
       "    <tr style=\"text-align: right;\">\n",
       "      <th></th>\n",
       "      <th>Open</th>\n",
       "      <th>High</th>\n",
       "      <th>Low</th>\n",
       "      <th>Close</th>\n",
       "      <th>Volume</th>\n",
       "      <th>Adj Close</th>\n",
       "    </tr>\n",
       "    <tr>\n",
       "      <th>Date</th>\n",
       "      <th></th>\n",
       "      <th></th>\n",
       "      <th></th>\n",
       "      <th></th>\n",
       "      <th></th>\n",
       "      <th></th>\n",
       "    </tr>\n",
       "  </thead>\n",
       "  <tbody>\n",
       "    <tr>\n",
       "      <th>2012-06-01</th>\n",
       "      <td>6.344162</td>\n",
       "      <td>6.350275</td>\n",
       "      <td>6.328865</td>\n",
       "      <td>6.329703</td>\n",
       "      <td>18.684942</td>\n",
       "      <td>4.295536</td>\n",
       "    </tr>\n",
       "    <tr>\n",
       "      <th>2012-06-04</th>\n",
       "      <td>6.330612</td>\n",
       "      <td>6.341241</td>\n",
       "      <td>6.307187</td>\n",
       "      <td>6.335568</td>\n",
       "      <td>18.751774</td>\n",
       "      <td>4.301401</td>\n",
       "    </tr>\n",
       "    <tr>\n",
       "      <th>2012-06-05</th>\n",
       "      <td>6.330202</td>\n",
       "      <td>6.339424</td>\n",
       "      <td>6.324950</td>\n",
       "      <td>6.332978</td>\n",
       "      <td>18.390774</td>\n",
       "      <td>4.298810</td>\n",
       "    </tr>\n",
       "    <tr>\n",
       "      <th>2012-06-06</th>\n",
       "      <td>6.341716</td>\n",
       "      <td>6.352368</td>\n",
       "      <td>6.337710</td>\n",
       "      <td>6.348195</td>\n",
       "      <td>18.424313</td>\n",
       "      <td>4.314027</td>\n",
       "    </tr>\n",
       "    <tr>\n",
       "      <th>2012-06-07</th>\n",
       "      <td>6.358345</td>\n",
       "      <td>6.358397</td>\n",
       "      <td>6.346513</td>\n",
       "      <td>6.348649</td>\n",
       "      <td>18.368774</td>\n",
       "      <td>4.314482</td>\n",
       "    </tr>\n",
       "  </tbody>\n",
       "</table>\n",
       "</div>"
      ],
      "text/plain": [
       "                Open      High       Low     Close     Volume  Adj Close\n",
       "Date                                                                    \n",
       "2012-06-01  6.344162  6.350275  6.328865  6.329703  18.684942   4.295536\n",
       "2012-06-04  6.330612  6.341241  6.307187  6.335568  18.751774   4.301401\n",
       "2012-06-05  6.330202  6.339424  6.324950  6.332978  18.390774   4.298810\n",
       "2012-06-06  6.341716  6.352368  6.337710  6.348195  18.424313   4.314027\n",
       "2012-06-07  6.358345  6.358397  6.346513  6.348649  18.368774   4.314482"
      ]
     },
     "execution_count": 49,
     "metadata": {},
     "output_type": "execute_result"
    }
   ],
   "source": [
    "np.log(yahoo_aapl).head()"
   ]
  },
  {
   "cell_type": "code",
   "execution_count": 67,
   "metadata": {
    "collapsed": false
   },
   "outputs": [
    {
     "data": {
      "text/plain": [
       "array([[ -7.65998800e+00,  -5.15002400e+00,  -1.20200350e+01,\n",
       "          3.29999500e+00,   9.00200000e+06,   4.31605000e-01],\n",
       "       [ -2.30019000e-01,  -1.02998400e+00,   9.83002500e+00,\n",
       "         -1.45995300e+00,  -4.21953000e+07,  -1.90947000e-01],\n",
       "       [  6.50001500e+00,   7.37998200e+00,   7.16999000e+00,\n",
       "          8.62999700e+00,   3.31030000e+06,   1.12871200e+00],\n",
       "       ..., \n",
       "       [  2.00050000e-02,   7.00000000e-02,  -3.70002000e-01,\n",
       "         -6.29998000e-01,   2.68010000e+06,  -6.29998000e-01],\n",
       "       [ -7.90001000e-01,  -5.09995000e-01,  -1.99970000e-02,\n",
       "         -1.20002000e-01,  -2.79600000e+06,  -1.20002000e-01],\n",
       "       [ -8.20000000e-01,  -9.40002000e-01,  -7.90001000e-01,\n",
       "         -8.20000000e-01,  -1.06400000e+05,  -8.20000000e-01]])"
      ]
     },
     "execution_count": 67,
     "metadata": {},
     "output_type": "execute_result"
    }
   ],
   "source": [
    "np.diff(yahoo_aapl, axis=0)"
   ]
  },
  {
   "cell_type": "code",
   "execution_count": 116,
   "metadata": {
    "collapsed": false
   },
   "outputs": [
    {
     "data": {
      "text/html": [
       "<div>\n",
       "<table border=\"1\" class=\"dataframe\">\n",
       "  <thead>\n",
       "    <tr style=\"text-align: right;\">\n",
       "      <th></th>\n",
       "      <th>Open</th>\n",
       "      <th>High</th>\n",
       "      <th>Low</th>\n",
       "      <th>Close</th>\n",
       "      <th>Volume</th>\n",
       "      <th>Adj Close</th>\n",
       "    </tr>\n",
       "    <tr>\n",
       "      <th>Date</th>\n",
       "      <th></th>\n",
       "      <th></th>\n",
       "      <th></th>\n",
       "      <th></th>\n",
       "      <th></th>\n",
       "      <th></th>\n",
       "    </tr>\n",
       "  </thead>\n",
       "  <tbody>\n",
       "    <tr>\n",
       "      <th>2012-06-01</th>\n",
       "      <td>NaN</td>\n",
       "      <td>NaN</td>\n",
       "      <td>NaN</td>\n",
       "      <td>NaN</td>\n",
       "      <td>NaN</td>\n",
       "      <td>NaN</td>\n",
       "    </tr>\n",
       "    <tr>\n",
       "      <th>2012-06-04</th>\n",
       "      <td>-7.659988</td>\n",
       "      <td>-5.150024</td>\n",
       "      <td>-12.020035</td>\n",
       "      <td>3.299995</td>\n",
       "      <td>9002000.0</td>\n",
       "      <td>0.431605</td>\n",
       "    </tr>\n",
       "    <tr>\n",
       "      <th>2012-06-05</th>\n",
       "      <td>-0.230019</td>\n",
       "      <td>-1.029984</td>\n",
       "      <td>9.830025</td>\n",
       "      <td>-1.459953</td>\n",
       "      <td>-42195300.0</td>\n",
       "      <td>-0.190947</td>\n",
       "    </tr>\n",
       "    <tr>\n",
       "      <th>2012-06-06</th>\n",
       "      <td>6.500015</td>\n",
       "      <td>7.379982</td>\n",
       "      <td>7.169990</td>\n",
       "      <td>8.629997</td>\n",
       "      <td>3310300.0</td>\n",
       "      <td>1.128712</td>\n",
       "    </tr>\n",
       "    <tr>\n",
       "      <th>2012-06-07</th>\n",
       "      <td>9.520005</td>\n",
       "      <td>3.470040</td>\n",
       "      <td>5.000008</td>\n",
       "      <td>0.259979</td>\n",
       "      <td>-5422200.0</td>\n",
       "      <td>0.034002</td>\n",
       "    </tr>\n",
       "  </tbody>\n",
       "</table>\n",
       "</div>"
      ],
      "text/plain": [
       "                Open      High        Low     Close      Volume  Adj Close\n",
       "Date                                                                      \n",
       "2012-06-01       NaN       NaN        NaN       NaN         NaN        NaN\n",
       "2012-06-04 -7.659988 -5.150024 -12.020035  3.299995   9002000.0   0.431605\n",
       "2012-06-05 -0.230019 -1.029984   9.830025 -1.459953 -42195300.0  -0.190947\n",
       "2012-06-06  6.500015  7.379982   7.169990  8.629997   3310300.0   1.128712\n",
       "2012-06-07  9.520005  3.470040   5.000008  0.259979  -5422200.0   0.034002"
      ]
     },
     "execution_count": 116,
     "metadata": {},
     "output_type": "execute_result"
    }
   ],
   "source": [
    "yahoo_aapl.diff().head()"
   ]
  },
  {
   "cell_type": "markdown",
   "metadata": {},
   "source": [
    "### [Библиотека Scipy](http://docs.scipy.org/doc/scipy/reference/index.html)"
   ]
  },
  {
   "cell_type": "code",
   "execution_count": 152,
   "metadata": {
    "collapsed": false
   },
   "outputs": [
    {
     "data": {
      "text/plain": [
       " final_simplex: (array([[ 2.00004644],\n",
       "       [ 1.99995117]]), array([ 6.,  6.]))\n",
       "           fun: 6.000000002157039\n",
       "       message: 'Optimization terminated successfully.'\n",
       "          nfev: 54\n",
       "           nit: 27\n",
       "        status: 0\n",
       "       success: True\n",
       "             x: array([ 2.00004644])"
      ]
     },
     "execution_count": 152,
     "metadata": {},
     "output_type": "execute_result"
    }
   ],
   "source": [
    "from scipy.optimize import minimize\n",
    "\n",
    "def f(x):\n",
    "    return x ** 2 - 4 * x + 10\n",
    "\n",
    "minimize(f, x0=999, method='nelder-mead')"
   ]
  },
  {
   "cell_type": "code",
   "execution_count": 156,
   "metadata": {
    "collapsed": false
   },
   "outputs": [
    {
     "data": {
      "text/plain": [
       "[0.0, 0.17603266338214976, 0.19922195704738202, 0.0087641502467842702, 0.0]"
      ]
     },
     "execution_count": 156,
     "metadata": {},
     "output_type": "execute_result"
    }
   ],
   "source": [
    "from scipy.stats import norm\n",
    "[norm.pdf(x, loc=5, scale=2) for x in (-100, 4, 5.1, 10, 100)]"
   ]
  },
  {
   "cell_type": "markdown",
   "metadata": {},
   "source": [
    "### [Библиотека matplotlib](http://matplotlib.org)"
   ]
  },
  {
   "cell_type": "code",
   "execution_count": 51,
   "metadata": {
    "collapsed": false
   },
   "outputs": [],
   "source": [
    "import matplotlib.pyplot as plt\n",
    "%matplotlib inline"
   ]
  },
  {
   "cell_type": "markdown",
   "metadata": {},
   "source": [
    "#### Функция [`plot`](http://matplotlib.org/api/pyplot_api.html#matplotlib.pyplot.plot)"
   ]
  },
  {
   "cell_type": "code",
   "execution_count": 63,
   "metadata": {
    "collapsed": false
   },
   "outputs": [
    {
     "data": {
      "text/plain": [
       "[<matplotlib.lines.Line2D at 0x22c4368dac8>]"
      ]
     },
     "execution_count": 63,
     "metadata": {},
     "output_type": "execute_result"
    },
    {
     "data": {
      "image/png": "[encoded data removed]",
      "text/plain": [
       "<matplotlib.figure.Figure at 0x22c4362b358>"
      ]
     },
     "metadata": {},
     "output_type": "display_data"
    }
   ],
   "source": [
    "plt.plot(np.random.randn(100).cumsum())"
   ]
  },
  {
   "cell_type": "code",
   "execution_count": 56,
   "metadata": {
    "collapsed": false
   },
   "outputs": [
    {
     "data": {
      "text/plain": [
       "[<matplotlib.lines.Line2D at 0x22c435fa0f0>]"
      ]
     },
     "execution_count": 56,
     "metadata": {},
     "output_type": "execute_result"
    },
    {
     "data": {
      "image/png": "[encoded data removed]",
      "text/plain": [
       "<matplotlib.figure.Figure at 0x22c421f2c18>"
      ]
     },
     "metadata": {},
     "output_type": "display_data"
    }
   ],
   "source": [
    "yahoo_fb = data.DataReader('fb', 'yahoo', datetime(2012, 6, 1), datetime(2016, 8, 30))\n",
    "x = yahoo_fb.index\n",
    "y = yahoo_fb.Open\n",
    "plt.plot(x, y)"
   ]
  },
  {
   "cell_type": "code",
   "execution_count": 98,
   "metadata": {
    "collapsed": false
   },
   "outputs": [
    {
     "data": {
      "text/plain": [
       "<matplotlib.legend.Legend at 0x22c46b05518>"
      ]
     },
     "execution_count": 98,
     "metadata": {},
     "output_type": "execute_result"
    },
    {
     "data": {
      "image/png": "[encoded data removed]",
      "text/plain": [
       "<matplotlib.figure.Figure at 0x22c46b0a198>"
      ]
     },
     "metadata": {},
     "output_type": "display_data"
    }
   ],
   "source": [
    "plt.figure(figsize=(15, 5))\n",
    "plt.grid()\n",
    "plt.plot_date(\n",
    "    yahoo_fb.index, yahoo_fb.Open,\n",
    "    color='r',\n",
    "    linewidth=2,\n",
    "    linestyle='-',\n",
    "    marker='None',\n",
    "    label='FB')\n",
    "plt.legend(loc='upper left')"
   ]
  },
  {
   "cell_type": "code",
   "execution_count": 119,
   "metadata": {
    "collapsed": false
   },
   "outputs": [
    {
     "data": {
      "text/plain": [
       "<matplotlib.legend.Legend at 0x22c4fd315c0>"
      ]
     },
     "execution_count": 119,
     "metadata": {},
     "output_type": "execute_result"
    },
    {
     "data": {
      "image/png": "[encoded data removed]",
      "text/plain": [
       "<matplotlib.figure.Figure at 0x22c4fbcc048>"
      ]
     },
     "metadata": {},
     "output_type": "display_data"
    }
   ],
   "source": [
    "plt.figure(figsize=(15, 5))\n",
    "plt.grid()\n",
    "plt.plot(\n",
    "    yahoo_fb.index, yahoo_fb.Open / yahoo_fb.iloc[0].Open,\n",
    "    color='r',\n",
    "    linewidth=2,\n",
    "    label='FB')\n",
    "plt.plot(\n",
    "    yahoo_fb.index, yahoo_fb.Open.diff(),\n",
    "    color='g',\n",
    "    linewidth=1,\n",
    "    label='FB diff',\n",
    "    zorder=-1)\n",
    "plt.legend(loc='upper left')"
   ]
  }
 ],
 "metadata": {
  "kernelspec": {
   "display_name": "Python [Root]",
   "language": "python",
   "name": "Python [Root]"
  },
  "language_info": {
   "codemirror_mode": {
    "name": "ipython",
    "version": 3
   },
   "file_extension": ".py",
   "mimetype": "text/x-python",
   "name": "python",
   "nbconvert_exporter": "python",
   "pygments_lexer": "ipython3",
   "version": "3.5.2"
  },
  "nbpresent": {
   "slides": {
    "f2275b60-4dc1-47e6-95c2-f88fdfecd468": {
     "id": "f2275b60-4dc1-47e6-95c2-f88fdfecd468",
     "layout": "manual",
     "prev": null,
     "regions": {}
    }
   },
   "themes": {}
  }
 },
 "nbformat": 4,
 "nbformat_minor": 0
}
