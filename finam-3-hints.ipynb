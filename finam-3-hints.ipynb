{
 "cells": [
  {
   "cell_type": "markdown",
   "metadata": {
    "nbpresent": {
     "id": "42ec5a28-068f-4ece-85d4-89045717b3d6"
    }
   },
   "source": [
    "# Школа алготрейдеров. Блок торгового ПО и программирования\n",
    "## Занятие 3. Использование основных конструкций языка Python\n",
    "## Notebook B. Подсказки"
   ]
  },
  {
   "cell_type": "markdown",
   "metadata": {},
   "source": [
    "### Задача: скользящее среднее"
   ]
  },
  {
   "cell_type": "markdown",
   "metadata": {},
   "source": [
    "#### Версия 2\n",
    "\n",
    "**Подсказка**\n",
    "\n",
    "Пусть $a_0$, $a_1$, ..., $a_{n-1}$ — исходные числа, $w$ — размер окна.\n",
    "Обозначим $$s_i = \\sum\\limits_{j=0}^{w-1} a_{i-j}, \\quad i \\geqslant w - 1.$$\n",
    "Тогда $$s_i = s_{i-1} + a_i - a_{i-w}, \\quad i \\geqslant w.$$"
   ]
  },
  {
   "cell_type": "markdown",
   "metadata": {},
   "source": [
    "### Задача: экспоненциально взвешенное скользящее среднее\n",
    "\n",
    "**Подсказка**\n",
    "\n",
    "$m_i = \\dfrac{s_i}{w_i}$, где\n",
    "$$s_i = s_{i-1} \\cdot d + a_i, \\quad w_i = w_{i-1} \\cdot d + 1.$$"
   ]
  }
 ],
 "metadata": {
  "anaconda-cloud": {},
  "kernelspec": {
   "display_name": "Python [Root]",
   "language": "python",
   "name": "Python [Root]"
  },
  "language_info": {
   "codemirror_mode": {
    "name": "ipython",
    "version": 3
   },
   "file_extension": ".py",
   "mimetype": "text/x-python",
   "name": "python",
   "nbconvert_exporter": "python",
   "pygments_lexer": "ipython3",
   "version": "3.5.2"
  },
  "nbpresent": {
   "slides": {
    "f2275b60-4dc1-47e6-95c2-f88fdfecd468": {
     "id": "f2275b60-4dc1-47e6-95c2-f88fdfecd468",
     "layout": "manual",
     "prev": null,
     "regions": {}
    }
   },
   "themes": {}
  }
 },
 "nbformat": 4,
 "nbformat_minor": 0
}
