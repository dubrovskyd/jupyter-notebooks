{
 "cells": [
  {
   "cell_type": "markdown",
   "metadata": {
    "nbpresent": {
     "id": "42ec5a28-068f-4ece-85d4-89045717b3d6"
    }
   },
   "source": [
    "# Школа алготрейдеров. Блок торгового ПО и программирования\n",
    "## Занятие 7. Работа с базами данных SQLite. Написание простейших индикаторов"
   ]
  },
  {
   "cell_type": "markdown",
   "metadata": {},
   "source": [
    "### База данных SQLite, модуль `sqlite3`"
   ]
  },
  {
   "cell_type": "markdown",
   "metadata": {},
   "source": [
    "* [Сайт SQLite](https://www.sqlite.org/index.html)\n",
    "* [Модуль `sqlite3` для Python](https://docs.python.org/3.6/library/sqlite3.html)\n",
    "* [Модуль `pandas.io.sql`](http://pandas.pydata.org/pandas-docs/stable/io.html#sql-queries) (абстракция над SQL)"
   ]
  },
  {
   "cell_type": "code",
   "execution_count": 13,
   "metadata": {
    "collapsed": true
   },
   "outputs": [],
   "source": [
    "import sqlite3"
   ]
  },
  {
   "cell_type": "markdown",
   "metadata": {},
   "source": [
    "#### Создание нового файла с базой данных"
   ]
  },
  {
   "cell_type": "code",
   "execution_count": 16,
   "metadata": {
    "collapsed": true
   },
   "outputs": [],
   "source": [
    "conn = sqlite3.connect('example.db')\n",
    "c = conn.cursor()"
   ]
  },
  {
   "cell_type": "markdown",
   "metadata": {},
   "source": [
    "#### Создание новой таблицы"
   ]
  },
  {
   "cell_type": "code",
   "execution_count": 17,
   "metadata": {
    "collapsed": false
   },
   "outputs": [
    {
     "data": {
      "text/plain": [
       "<sqlite3.Cursor at 0x1cc153c4880>"
      ]
     },
     "execution_count": 17,
     "metadata": {},
     "output_type": "execute_result"
    }
   ],
   "source": [
    "c.execute('''\n",
    "    create table Stocks (\n",
    "        Ticker text,\n",
    "        Date text,\n",
    "        Open double,\n",
    "        High double,\n",
    "        Low double,\n",
    "        Close double,\n",
    "        primary key (Ticker, Date)\n",
    "    )\n",
    "''')"
   ]
  },
  {
   "cell_type": "markdown",
   "metadata": {},
   "source": [
    "#### Заполнение таблицы"
   ]
  },
  {
   "cell_type": "code",
   "execution_count": 18,
   "metadata": {
    "collapsed": false
   },
   "outputs": [
    {
     "data": {
      "text/plain": [
       "<sqlite3.Cursor at 0x1cc153c4880>"
      ]
     },
     "execution_count": 18,
     "metadata": {},
     "output_type": "execute_result"
    }
   ],
   "source": [
    "c.execute('''\n",
    "    insert into Stocks (\n",
    "        Ticker, Date,\n",
    "        Open, High,\n",
    "        Low, Close\n",
    "    )\n",
    "    values (\n",
    "        'TEST', '20161013',\n",
    "        6, 10, 4.2, 8\n",
    "    )\n",
    "''')"
   ]
  },
  {
   "cell_type": "code",
   "execution_count": 19,
   "metadata": {
    "collapsed": false
   },
   "outputs": [
    {
     "data": {
      "text/plain": [
       "<sqlite3.Cursor at 0x1cc153c4880>"
      ]
     },
     "execution_count": 19,
     "metadata": {},
     "output_type": "execute_result"
    }
   ],
   "source": [
    "rows = [\n",
    "    ('MANY', '20161014', 40.5, 51.2, 40.2, 43.4),\n",
    "    ('MANY', '20161015', 43.9, 54.1, 42.7, 45.4),\n",
    "    ('MANY', '20161016', 45.5, 49.0, 45.1, 45.2),\n",
    "]\n",
    "c.executemany('''\n",
    "    insert into Stocks (\n",
    "        Ticker, Date,\n",
    "        Open, High,\n",
    "        Low, Close\n",
    "    )\n",
    "    values (?, ?, ?, ?, ?, ?)\n",
    "''', rows)"
   ]
  },
  {
   "cell_type": "code",
   "execution_count": 20,
   "metadata": {
    "collapsed": true
   },
   "outputs": [],
   "source": [
    "conn.commit()"
   ]
  },
  {
   "cell_type": "markdown",
   "metadata": {},
   "source": [
    "#### Заполнение таблицы данными из `pandas.DataFrame`"
   ]
  },
  {
   "cell_type": "code",
   "execution_count": 21,
   "metadata": {
    "collapsed": false
   },
   "outputs": [
    {
     "data": {
      "text/html": [
       "<div>\n",
       "<table border=\"1\" class=\"dataframe\">\n",
       "  <thead>\n",
       "    <tr style=\"text-align: right;\">\n",
       "      <th></th>\n",
       "      <th>Open</th>\n",
       "      <th>High</th>\n",
       "      <th>Low</th>\n",
       "      <th>Close</th>\n",
       "      <th>Volume</th>\n",
       "      <th>Adj Close</th>\n",
       "    </tr>\n",
       "    <tr>\n",
       "      <th>Date</th>\n",
       "      <th></th>\n",
       "      <th></th>\n",
       "      <th></th>\n",
       "      <th></th>\n",
       "      <th></th>\n",
       "      <th></th>\n",
       "    </tr>\n",
       "  </thead>\n",
       "  <tbody>\n",
       "    <tr>\n",
       "      <th>2012-06-01</th>\n",
       "      <td>28.889999</td>\n",
       "      <td>29.15</td>\n",
       "      <td>27.389999</td>\n",
       "      <td>27.719999</td>\n",
       "      <td>41855500</td>\n",
       "      <td>27.719999</td>\n",
       "    </tr>\n",
       "    <tr>\n",
       "      <th>2012-06-04</th>\n",
       "      <td>27.200001</td>\n",
       "      <td>27.65</td>\n",
       "      <td>26.440001</td>\n",
       "      <td>26.900000</td>\n",
       "      <td>35230300</td>\n",
       "      <td>26.900000</td>\n",
       "    </tr>\n",
       "    <tr>\n",
       "      <th>2012-06-05</th>\n",
       "      <td>26.700001</td>\n",
       "      <td>27.76</td>\n",
       "      <td>25.750000</td>\n",
       "      <td>25.870001</td>\n",
       "      <td>42473400</td>\n",
       "      <td>25.870001</td>\n",
       "    </tr>\n",
       "    <tr>\n",
       "      <th>2012-06-06</th>\n",
       "      <td>26.070000</td>\n",
       "      <td>27.17</td>\n",
       "      <td>25.520000</td>\n",
       "      <td>26.809999</td>\n",
       "      <td>61489200</td>\n",
       "      <td>26.809999</td>\n",
       "    </tr>\n",
       "    <tr>\n",
       "      <th>2012-06-07</th>\n",
       "      <td>27.000000</td>\n",
       "      <td>27.35</td>\n",
       "      <td>26.150000</td>\n",
       "      <td>26.309999</td>\n",
       "      <td>26159500</td>\n",
       "      <td>26.309999</td>\n",
       "    </tr>\n",
       "  </tbody>\n",
       "</table>\n",
       "</div>"
      ],
      "text/plain": [
       "                 Open   High        Low      Close    Volume  Adj Close\n",
       "Date                                                                   \n",
       "2012-06-01  28.889999  29.15  27.389999  27.719999  41855500  27.719999\n",
       "2012-06-04  27.200001  27.65  26.440001  26.900000  35230300  26.900000\n",
       "2012-06-05  26.700001  27.76  25.750000  25.870001  42473400  25.870001\n",
       "2012-06-06  26.070000  27.17  25.520000  26.809999  61489200  26.809999\n",
       "2012-06-07  27.000000  27.35  26.150000  26.309999  26159500  26.309999"
      ]
     },
     "execution_count": 21,
     "metadata": {},
     "output_type": "execute_result"
    }
   ],
   "source": [
    "from pandas_datareader import data\n",
    "import datetime as dt\n",
    "fb = data.DataReader('fb', 'yahoo', dt.datetime(2012, 6, 1), dt.datetime(2016, 8, 30))\n",
    "fb.head()"
   ]
  },
  {
   "cell_type": "code",
   "execution_count": 41,
   "metadata": {
    "collapsed": false
   },
   "outputs": [
    {
     "data": {
      "text/plain": [
       "[('FB',\n",
       "  '20120601',\n",
       "  28.889999,\n",
       "  29.149999999999999,\n",
       "  27.389999,\n",
       "  27.719998999999998),\n",
       " ('FB',\n",
       "  '20120604',\n",
       "  27.200001,\n",
       "  27.649999999999999,\n",
       "  26.440001000000002,\n",
       "  26.899999999999999)]"
      ]
     },
     "execution_count": 41,
     "metadata": {},
     "output_type": "execute_result"
    }
   ],
   "source": [
    "data = [\n",
    "    ('FB', row.name.strftime('%Y%m%d'), row.Open, row.High, row.Low, row.Close)\n",
    "    for i, row in fb.iterrows()\n",
    "]\n",
    "data[:2]"
   ]
  },
  {
   "cell_type": "code",
   "execution_count": 42,
   "metadata": {
    "collapsed": false
   },
   "outputs": [
    {
     "data": {
      "text/plain": [
       "<sqlite3.Cursor at 0x1cc153c4880>"
      ]
     },
     "execution_count": 42,
     "metadata": {},
     "output_type": "execute_result"
    }
   ],
   "source": [
    "c.executemany('''\n",
    "    insert into Stocks (\n",
    "        Ticker, Date,\n",
    "        Open, High,\n",
    "        Low, Close\n",
    "    )\n",
    "    values (?, ?, ?, ?, ?, ?)\n",
    "''', data)"
   ]
  },
  {
   "cell_type": "code",
   "execution_count": 43,
   "metadata": {
    "collapsed": true
   },
   "outputs": [],
   "source": [
    "conn.commit()"
   ]
  },
  {
   "cell_type": "markdown",
   "metadata": {},
   "source": [
    "#### Загрузка данных"
   ]
  },
  {
   "cell_type": "code",
   "execution_count": 46,
   "metadata": {
    "collapsed": false
   },
   "outputs": [
    {
     "data": {
      "text/plain": [
       "<sqlite3.Cursor at 0x1cc153c4880>"
      ]
     },
     "execution_count": 46,
     "metadata": {},
     "output_type": "execute_result"
    }
   ],
   "source": [
    "c.execute('select * from Stocks')"
   ]
  },
  {
   "cell_type": "code",
   "execution_count": 52,
   "metadata": {
    "collapsed": false
   },
   "outputs": [
    {
     "data": {
      "text/plain": [
       "('FB', '20120604', 27.200001, 27.65, 26.440001000000002, 26.9)"
      ]
     },
     "execution_count": 52,
     "metadata": {},
     "output_type": "execute_result"
    }
   ],
   "source": [
    "c.fetchone()"
   ]
  },
  {
   "cell_type": "code",
   "execution_count": 53,
   "metadata": {
    "collapsed": false
   },
   "outputs": [
    {
     "data": {
      "text/plain": [
       "[('TEST', '20161013', 6.0, 10.0, 4.2, 8.0),\n",
       " ('MANY', '20161014', 40.5, 51.2, 40.2, 43.4),\n",
       " ('MANY', '20161015', 43.9, 54.1, 42.7, 45.4),\n",
       " ('MANY', '20161016', 45.5, 49.0, 45.1, 45.2),\n",
       " ('FB', '20120601', 28.889999, 29.15, 27.389999, 27.719998999999998),\n",
       " ('FB', '20120604', 27.200001, 27.65, 26.440001000000002, 26.9),\n",
       " ('FB', '20120605', 26.700001, 27.76, 25.75, 25.870001000000002),\n",
       " ('FB', '20120606', 26.07, 27.17, 25.52, 26.809998999999998),\n",
       " ('FB', '20120607', 27.0, 27.35, 26.15, 26.309998999999998),\n",
       " ('FB', '20120608', 26.549999, 27.76, 26.440001000000002, 27.1)]"
      ]
     },
     "execution_count": 53,
     "metadata": {},
     "output_type": "execute_result"
    }
   ],
   "source": [
    "list(c.execute('select * from Stocks'))[:10]"
   ]
  },
  {
   "cell_type": "code",
   "execution_count": 54,
   "metadata": {
    "collapsed": false
   },
   "outputs": [
    {
     "data": {
      "text/plain": [
       "[('FB', 66.52301222263792, 66.51880258746486, 17.549999, 128.330002),\n",
       " ('MANY', 43.300000000000004, 44.666666666666664, 40.2, 54.1),\n",
       " ('TEST', 6.0, 8.0, 4.2, 10.0)]"
      ]
     },
     "execution_count": 54,
     "metadata": {},
     "output_type": "execute_result"
    }
   ],
   "source": [
    "list(c.execute('''\n",
    "    select\n",
    "        Ticker,\n",
    "        avg(Open),\n",
    "        avg(Close),\n",
    "        min(Low),\n",
    "        max(High)\n",
    "    from\n",
    "        Stocks\n",
    "    group by\n",
    "        Ticker\n",
    "'''))"
   ]
  },
  {
   "cell_type": "code",
   "execution_count": 57,
   "metadata": {
    "collapsed": false
   },
   "outputs": [
    {
     "name": "stdout",
     "output_type": "stream",
     "text": [
      "Range for FB: [17.549999, 128.330002]\n",
      "Range for MANY: [40.2, 54.1]\n",
      "Range for TEST: [4.2, 10.0]\n"
     ]
    }
   ],
   "source": [
    "c.execute('''\n",
    "    select\n",
    "        Ticker,\n",
    "        avg(Open),\n",
    "        avg(Close),\n",
    "        min(Low),\n",
    "        max(High)\n",
    "    from\n",
    "        Stocks\n",
    "    group by\n",
    "        Ticker\n",
    "''')\n",
    "\n",
    "for ticker, avg_open, avg_close, low, high in c:\n",
    "    print('Range for {}: [{}, {}]'.format(ticker, low, high))"
   ]
  },
  {
   "cell_type": "markdown",
   "metadata": {},
   "source": [
    "#### Закрытие соединения"
   ]
  },
  {
   "cell_type": "code",
   "execution_count": 12,
   "metadata": {
    "collapsed": true
   },
   "outputs": [],
   "source": [
    "conn.close()"
   ]
  },
  {
   "cell_type": "markdown",
   "metadata": {},
   "source": [
    "#### Консольный клиент\n",
    "\n",
    "Запуск из командной строки: `sqlite3 example.db`"
   ]
  },
  {
   "cell_type": "raw",
   "metadata": {},
   "source": [
    "sqlite> select * from Stocks limit 5;\n",
    "TEST|20161013|6.0|10.0|4.2|8.0\n",
    "MANY|20161014|40.5|51.2|40.2|43.4\n",
    "MANY|20161015|43.9|54.1|42.7|45.4\n",
    "MANY|20161016|45.5|49.0|45.1|45.2\n",
    "FB|20120601|28.889999|29.15|27.389999|27.719999"
   ]
  },
  {
   "cell_type": "markdown",
   "metadata": {},
   "source": [
    "#### `.tables`, `.schema`"
   ]
  },
  {
   "cell_type": "raw",
   "metadata": {},
   "source": [
    "sqlite> .tables\n",
    "Stocks\n",
    "sqlite> .schema Stocks\n",
    "CREATE TABLE Stocks (\n",
    "        Ticker text,\n",
    "        Date text,\n",
    "        Open double,\n",
    "        High double,\n",
    "        Low double,\n",
    "        Close double,\n",
    "        primary key (Ticker, Date)\n",
    "    );"
   ]
  },
  {
   "cell_type": "markdown",
   "metadata": {},
   "source": [
    "#### `.headers on`, `.mode column`"
   ]
  },
  {
   "cell_type": "raw",
   "metadata": {},
   "source": [
    "sqlite> .headers on\n",
    "sqlite> .mode column\n",
    "sqlite> select * from Stocks limit 5;\n",
    "Ticker      Date        Open        High        Low         Close\n",
    "----------  ----------  ----------  ----------  ----------  ----------\n",
    "TEST        20161013    6.0         10.0        4.2         8.0\n",
    "MANY        20161014    40.5        51.2        40.2        43.4\n",
    "MANY        20161015    43.9        54.1        42.7        45.4\n",
    "MANY        20161016    45.5        49.0        45.1        45.2\n",
    "FB          20120601    28.889999   29.15       27.389999   27.719999"
   ]
  },
  {
   "cell_type": "markdown",
   "metadata": {},
   "source": [
    "#### Type affinity\n",
    "\n",
    "Нет строгих ограничений на тип"
   ]
  },
  {
   "cell_type": "code",
   "execution_count": 61,
   "metadata": {
    "collapsed": true
   },
   "outputs": [],
   "source": [
    "conn = sqlite3.connect('example.db')\n",
    "c = conn.cursor()"
   ]
  },
  {
   "cell_type": "code",
   "execution_count": 62,
   "metadata": {
    "collapsed": false
   },
   "outputs": [
    {
     "data": {
      "text/plain": [
       "<sqlite3.Cursor at 0x1cc180330a0>"
      ]
     },
     "execution_count": 62,
     "metadata": {},
     "output_type": "execute_result"
    }
   ],
   "source": [
    "c.execute('''\n",
    "    insert into Stocks (\n",
    "        Ticker, Date,\n",
    "        Open, High,\n",
    "        Low, Close\n",
    "    )\n",
    "    values (\n",
    "        ?, ?, ?, ?, ?, ?\n",
    "    )\n",
    "''', (20160101, 81, 'a', 'b', 'c', 'd'))"
   ]
  },
  {
   "cell_type": "code",
   "execution_count": 63,
   "metadata": {
    "collapsed": true
   },
   "outputs": [],
   "source": [
    "conn.commit()"
   ]
  },
  {
   "cell_type": "code",
   "execution_count": 64,
   "metadata": {
    "collapsed": false
   },
   "outputs": [
    {
     "data": {
      "text/plain": [
       "[('20160101', '81', 'a', 'b', 'c', 'd')]"
      ]
     },
     "execution_count": 64,
     "metadata": {},
     "output_type": "execute_result"
    }
   ],
   "source": [
    "list(c.execute('select * from Stocks where Ticker = 20160101'))"
   ]
  },
  {
   "cell_type": "code",
   "execution_count": 65,
   "metadata": {
    "collapsed": true
   },
   "outputs": [],
   "source": [
    "conn.close()"
   ]
  },
  {
   "cell_type": "markdown",
   "metadata": {},
   "source": [
    "### [Система Quanteon](http://quanteon.ru)"
   ]
  }
 ],
 "metadata": {
  "anaconda-cloud": {},
  "kernelspec": {
   "display_name": "Python [Root]",
   "language": "python",
   "name": "Python [Root]"
  },
  "language_info": {
   "codemirror_mode": {
    "name": "ipython",
    "version": 3
   },
   "file_extension": ".py",
   "mimetype": "text/x-python",
   "name": "python",
   "nbconvert_exporter": "python",
   "pygments_lexer": "ipython3",
   "version": "3.5.2"
  },
  "nbpresent": {
   "slides": {
    "f2275b60-4dc1-47e6-95c2-f88fdfecd468": {
     "id": "f2275b60-4dc1-47e6-95c2-f88fdfecd468",
     "layout": "manual",
     "prev": null,
     "regions": {}
    }
   },
   "themes": {}
  }
 },
 "nbformat": 4,
 "nbformat_minor": 0
}
