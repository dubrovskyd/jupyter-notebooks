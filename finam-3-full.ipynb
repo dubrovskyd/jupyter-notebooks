{
 "cells": [
  {
   "cell_type": "markdown",
   "metadata": {
    "nbpresent": {
     "id": "42ec5a28-068f-4ece-85d4-89045717b3d6"
    }
   },
   "source": [
    "# Школа алготрейдеров. Блок торгового ПО и программирования\n",
    "## Занятие 3. Использование основных конструкций языка Python\n",
    "## Notebook C. Полная версия"
   ]
  },
  {
   "cell_type": "markdown",
   "metadata": {},
   "source": [
    "### Работа с Jupyter"
   ]
  },
  {
   "cell_type": "markdown",
   "metadata": {},
   "source": [
    "- Типы ячеек: Code и Markdown\n",
    "- Режимы работы: Command и Edit\n",
    "- `Ctrl+Enter` — выполнить и переключиться в Command Mode\n",
    "- `Enter` — вернуться в Edit Mode\n",
    "- `Esc` — перейти в Command Mode без выполнения\n",
    "- `Shift+Enter` — `Ctrl+Enter` и перейти к следующей ячейке\n",
    "- `Alt+Enter` — `Ctrl+Enter`, создать ячейку ниже, перейти к ней\n",
    "- `h` — вызвать справку по горячим клавишам"
   ]
  },
  {
   "cell_type": "markdown",
   "metadata": {},
   "source": [
    "### Задача: скользящее среднее"
   ]
  },
  {
   "cell_type": "markdown",
   "metadata": {},
   "source": [
    "#### Версия 1\n",
    "Написать функцию, принимающую на вход:\n",
    "1. список чисел;\n",
    "2. именованный аргумент `window_size` — размер окна.\n",
    "\n",
    "Результат — список на `(window_size - 1)` меньшей длины, где вместо исходных чисел подставлено среднее значение в окне, заканчивающемся в соответствующем элементе.\n",
    "\n",
    "Рекомендация: использовать генератор списка и срез."
   ]
  },
  {
   "cell_type": "code",
   "execution_count": 2,
   "metadata": {
    "collapsed": true
   },
   "outputs": [],
   "source": [
    "def compute_moving_average(numbers, *, window_size):\n",
    "    return [\n",
    "        sum(numbers[i-window_size+1:i+1]) / window_size\n",
    "        for i in range(window_size - 1, len(numbers))\n",
    "    ]"
   ]
  },
  {
   "cell_type": "code",
   "execution_count": 3,
   "metadata": {
    "collapsed": false
   },
   "outputs": [
    {
     "data": {
      "text/plain": [
       "[5.0, 3.0, 4.0, 5.0, 4.0]"
      ]
     },
     "execution_count": 3,
     "metadata": {},
     "output_type": "execute_result"
    }
   ],
   "source": [
    "compute_moving_average([8, 6, 1, 2, 9, 4, -1], window_size=3)"
   ]
  },
  {
   "cell_type": "markdown",
   "metadata": {},
   "source": [
    "#### Версия 2\n",
    "Реализовать более эффективный вариант: на очередной итерации пересчитывать предыдущее значение суммы в окне.\n",
    "\n",
    "**Подсказка**\n",
    "\n",
    "Пусть $a_0$, $a_1$, ..., $a_{n-1}$ — исходные числа, $w$ — размер окна.\n",
    "Обозначим $$s_i = \\sum\\limits_{j=0}^{w-1} a_{i-j}, \\quad i \\geqslant w - 1.$$\n",
    "Тогда $$s_i = s_{i-1} + a_i - a_{i-w}, \\quad i \\geqslant w.$$"
   ]
  },
  {
   "cell_type": "code",
   "execution_count": 4,
   "metadata": {
    "collapsed": true
   },
   "outputs": [],
   "source": [
    "def compute_moving_average(numbers, *, window_size):\n",
    "    window_sum = sum(numbers[:window_size])\n",
    "    averages = [window_sum / window_size]\n",
    "    for i in range(window_size, len(numbers)):\n",
    "        window_sum += numbers[i] - numbers[i - window_size]\n",
    "        averages.append(window_sum / window_size)\n",
    "    return averages"
   ]
  },
  {
   "cell_type": "markdown",
   "metadata": {},
   "source": [
    "#### Версия 3\n",
    "\n",
    "Реализовать более общий вариант предыдущей функции, принимающий на вход любой iterable и возвращающий генератор."
   ]
  },
  {
   "cell_type": "code",
   "execution_count": 5,
   "metadata": {
    "collapsed": true
   },
   "outputs": [],
   "source": [
    "from collections import deque\n",
    "\n",
    "def compute_moving_average(numbers, *, window_size):\n",
    "    window_sum = 0\n",
    "    window_numbers = deque()\n",
    "    for i, number in enumerate(numbers):\n",
    "        window_numbers.append(number)\n",
    "        window_sum += number\n",
    "        if i >= window_size - 1:\n",
    "            if i >= window_size:\n",
    "                window_sum -= window_numbers.popleft()\n",
    "            yield window_sum / window_size"
   ]
  },
  {
   "cell_type": "code",
   "execution_count": 6,
   "metadata": {
    "collapsed": false
   },
   "outputs": [
    {
     "data": {
      "text/plain": [
       "[5.0, 3.0, 4.0, 5.0, 4.0]"
      ]
     },
     "execution_count": 6,
     "metadata": {},
     "output_type": "execute_result"
    }
   ],
   "source": [
    "list(compute_moving_average(reversed([-1, 4, 9, 2, 1, 6, 8]), window_size=3))"
   ]
  },
  {
   "cell_type": "markdown",
   "metadata": {},
   "source": [
    "### Задача: экспоненциально взвешенное скользящее среднее\n",
    "\n",
    "По данным числам $a_0$, $a_1$, ..., $a_{n-1}$ и коэффициенту устаревания $d$ вычислить $$m_i = \\dfrac{\\sum\\limits_{j=0}^i a_j d^{i-j}}{\\sum\\limits_{j=0}^i d^{i-j}} \\quad \\forall i \\in [0, n).$$\n",
    "\n",
    "**Подсказка**\n",
    "\n",
    "$m_i = \\dfrac{s_i}{w_i}$, где\n",
    "$$s_i = s_{i-1} \\cdot d + a_i, \\quad w_i = w_{i-1} \\cdot d + 1.$$"
   ]
  },
  {
   "cell_type": "code",
   "execution_count": 7,
   "metadata": {
    "collapsed": true
   },
   "outputs": [],
   "source": [
    "import math\n",
    "\n",
    "def compute_moving_exp_average(numbers, *, decay_base=math.e):\n",
    "    sum_weight = 0\n",
    "    weighted_sum = 0\n",
    "    for number in numbers:\n",
    "        sum_weight = sum_weight * decay_base + 1\n",
    "        weighted_sum = weighted_sum * decay_base + number\n",
    "        yield weighted_sum / sum_weight"
   ]
  },
  {
   "cell_type": "code",
   "execution_count": 8,
   "metadata": {
    "collapsed": false
   },
   "outputs": [
    {
     "data": {
      "text/plain": [
       "[4.0,\n",
       " 6.666666666666667,\n",
       " 3.4285714285714284,\n",
       " 5.333333333333333,\n",
       " 3.6129032258064515]"
      ]
     },
     "execution_count": 8,
     "metadata": {},
     "output_type": "execute_result"
    }
   ],
   "source": [
    "list(compute_moving_exp_average([4, 8, 1, 7, 2], decay_base=0.5))"
   ]
  }
 ],
 "metadata": {
  "anaconda-cloud": {},
  "kernelspec": {
   "display_name": "Python [Root]",
   "language": "python",
   "name": "Python [Root]"
  },
  "language_info": {
   "codemirror_mode": {
    "name": "ipython",
    "version": 3
   },
   "file_extension": ".py",
   "mimetype": "text/x-python",
   "name": "python",
   "nbconvert_exporter": "python",
   "pygments_lexer": "ipython3",
   "version": "3.5.2"
  },
  "nbpresent": {
   "slides": {
    "f2275b60-4dc1-47e6-95c2-f88fdfecd468": {
     "id": "f2275b60-4dc1-47e6-95c2-f88fdfecd468",
     "layout": "manual",
     "prev": null,
     "regions": {}
    }
   },
   "themes": {}
  }
 },
 "nbformat": 4,
 "nbformat_minor": 0
}
