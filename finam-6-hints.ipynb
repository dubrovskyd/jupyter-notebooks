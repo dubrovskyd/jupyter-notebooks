{
 "cells": [
  {
   "cell_type": "markdown",
   "metadata": {
    "nbpresent": {
     "id": "42ec5a28-068f-4ece-85d4-89045717b3d6"
    }
   },
   "source": [
    "# Школа алготрейдеров. Блок торгового ПО и программирования\n",
    "## Занятие 6. Визуализация финансовых данных с помощью библиотеки matplotlib. Обработка больших объёмов данных в pandas\n",
    "## Notebook B. Подсказки"
   ]
  },
  {
   "cell_type": "markdown",
   "metadata": {},
   "source": [
    "### Задача 1. Визуализация средних, заливка области между графиками\n",
    "\n",
    "* Легенда выводится с помощью функции `plt.legend`, сетка — с помощью `plt.grid`.\n",
    "* Для отображения области между графиками используйте [функцию `plt.fill_between`](http://matplotlib.org/api/pyplot_api.html#matplotlib.pyplot.fill_between).\n",
    "* Вычисление необходимых средних осуществляется с помощью [методов `rolling` и `ewm`](http://pandas.pydata.org/pandas-docs/stable/computation.html?highlight=rolling#window-functions). Не забудьте применить агрегатор (в данном случае `mean`) к результату соответствующей функции."
   ]
  },
  {
   "cell_type": "markdown",
   "metadata": {},
   "source": [
    "### Задача 2. Вывод дополнительной информации с помощью error bars\n",
    "\n",
    "Передайте `Volume` в параметр `yerr` [функции `plt.errorbar`](http://matplotlib.org/api/pyplot_api.html#matplotlib.pyplot.errorbar). Размер засечек будет значительно превышать вертикальные размеры графика: это означает, что объёмы сделок нужно пропорционально уменьшить, например, разделив на константу.\n",
    "Цвет засечек изменяется с помощью параметра `ecolor`, ширина горизонтальных линий засечек — с помощью `elinewidth`."
   ]
  },
  {
   "cell_type": "markdown",
   "metadata": {},
   "source": [
    "### Задача 3.1. Построение свечного графика\n",
    "\n",
    "* Используйте [функцию `candlestick2_ohlc` из модуля `matplotlib.finance`](http://matplotlib.org/api/finance_api.html#matplotlib.finance.candlestick2_ohlc).\n",
    "* В качестве первого аргумента этой функции нужно передать объект `ax`. Для его получения выполните операцию `fig, ax = plt.subplots(figsize=(15, 5))`, она же установит размеры графика."
   ]
  },
  {
   "cell_type": "markdown",
   "metadata": {},
   "source": [
    "### Задача 3.2. Совмещение свечного графика с информацией об объёмах сделок\n",
    "\n",
    "* Использование функции `plt.subplots` для создания подграфиков: [Easily creating subplots](http://matplotlib.org/users/recipes.html?highlight=subplots#easily-creating-subplots). [Примеры](http://matplotlib.org/examples/pylab_examples/subplots_demo.html).\n",
    "* Для получения подграфиков разных размеров используйте параметр `gridspec_kw` функции `plt.subplots`. [Пример](http://stackoverflow.com/a/35881382).\n",
    "* Добавить подписи осям можно с помощью метода `set_ylabel` объектов `ax`."
   ]
  },
  {
   "cell_type": "markdown",
   "metadata": {},
   "source": [
    "### Задача 4. Класс `pandas.HDFStore` для работы с таблицами на диске\n",
    "\n",
    "* [Как добавить данные к существующей таблице](http://pandas.pydata.org/pandas-docs/stable/io.html#table-format).\n",
    "* [Поблочное создание `.h5`-файла из `.csv`](http://stackoverflow.com/questions/20428355/appending-column-to-frame-of-hdf-file-in-pandas/20428786#20428786).\n",
    "* [Как сделать запрос в `HDFStore`](http://pandas.pydata.org/pandas-docs/stable/io.html#querying-a-table).\n",
    "* [Различные сценарии использования `HDFStore`](http://pandas.pydata.org/pandas-docs/stable/cookbook.html#hdfstore)."
   ]
  }
 ],
 "metadata": {
  "anaconda-cloud": {},
  "kernelspec": {
   "display_name": "Python [Root]",
   "language": "python",
   "name": "Python [Root]"
  },
  "language_info": {
   "codemirror_mode": {
    "name": "ipython",
    "version": 3
   },
   "file_extension": ".py",
   "mimetype": "text/x-python",
   "name": "python",
   "nbconvert_exporter": "python",
   "pygments_lexer": "ipython3",
   "version": "3.5.2"
  },
  "nbpresent": {
   "slides": {
    "f2275b60-4dc1-47e6-95c2-f88fdfecd468": {
     "id": "f2275b60-4dc1-47e6-95c2-f88fdfecd468",
     "layout": "manual",
     "prev": null,
     "regions": {}
    }
   },
   "themes": {}
  }
 },
 "nbformat": 4,
 "nbformat_minor": 0
}
