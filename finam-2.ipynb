{
 "cells": [
  {
   "cell_type": "markdown",
   "metadata": {
    "nbpresent": {
     "id": "42ec5a28-068f-4ece-85d4-89045717b3d6"
    }
   },
   "source": [
    "# Школа алготрейдеров. Блок торгового ПО и программирования\n",
    "## Занятие 2. Стандартная библиотека языка Python. Обработка табличных данных с помощью библиотеки pandas"
   ]
  },
  {
   "cell_type": "markdown",
   "metadata": {},
   "source": [
    "### Материалы\n",
    "- [Интерактивный учебник по основам питона на русском языке](http://pythontutor.ru)\n",
    "- [Learning IPython for Interactive Computing and Data Visualization, second edition](http://ipython-books.github.io/minibook/) by Cyrille Rossant"
   ]
  },
  {
   "cell_type": "markdown",
   "metadata": {},
   "source": [
    "### [Тип `set`](https://docs.python.org/3/library/stdtypes.html#set) (неупорядоченные множества)"
   ]
  },
  {
   "cell_type": "code",
   "execution_count": 1,
   "metadata": {
    "collapsed": false,
    "scrolled": true
   },
   "outputs": [
    {
     "data": {
      "text/plain": [
       "{'abc', 3.2, 1, 7}"
      ]
     },
     "execution_count": 1,
     "metadata": {},
     "output_type": "execute_result"
    }
   ],
   "source": [
    "s = {1, 7, 'abc', 3.2}\n",
    "s"
   ]
  },
  {
   "cell_type": "code",
   "execution_count": 2,
   "metadata": {
    "collapsed": false,
    "scrolled": true
   },
   "outputs": [
    {
     "data": {
      "text/plain": [
       "(4, ['abc', 3.2, 1, 7])"
      ]
     },
     "execution_count": 2,
     "metadata": {},
     "output_type": "execute_result"
    }
   ],
   "source": [
    "len(s), list(s)"
   ]
  },
  {
   "cell_type": "code",
   "execution_count": 3,
   "metadata": {
    "collapsed": false,
    "scrolled": true
   },
   "outputs": [
    {
     "name": "stdout",
     "output_type": "stream",
     "text": [
      "abcabc\n",
      "6.4\n",
      "2\n",
      "14\n"
     ]
    }
   ],
   "source": [
    "for x in s:\n",
    "    print(x * 2)"
   ]
  },
  {
   "cell_type": "code",
   "execution_count": 4,
   "metadata": {
    "collapsed": false,
    "scrolled": true
   },
   "outputs": [
    {
     "data": {
      "text/plain": [
       "['abcabc', 6.4, 2, 14]"
      ]
     },
     "execution_count": 4,
     "metadata": {},
     "output_type": "execute_result"
    }
   ],
   "source": [
    "[x * 2 for x in s]"
   ]
  },
  {
   "cell_type": "markdown",
   "metadata": {},
   "source": [
    "#### Получить все уникальные элементы списка"
   ]
  },
  {
   "cell_type": "code",
   "execution_count": 5,
   "metadata": {
    "collapsed": false,
    "scrolled": true
   },
   "outputs": [
    {
     "data": {
      "text/plain": [
       "[0, 2, 3, 5, 6, 1, 2]"
      ]
     },
     "execution_count": 5,
     "metadata": {},
     "output_type": "execute_result"
    }
   ],
   "source": [
    "a = [x % 7 for x in range(10) if x % 3 in (0, 2)]\n",
    "a"
   ]
  },
  {
   "cell_type": "code",
   "execution_count": 6,
   "metadata": {
    "collapsed": false,
    "scrolled": true
   },
   "outputs": [
    {
     "data": {
      "text/plain": [
       "{0, 1, 2, 3, 5, 6}"
      ]
     },
     "execution_count": 6,
     "metadata": {},
     "output_type": "execute_result"
    }
   ],
   "source": [
    "set(a)"
   ]
  },
  {
   "cell_type": "code",
   "execution_count": 7,
   "metadata": {
    "collapsed": false,
    "scrolled": true
   },
   "outputs": [
    {
     "data": {
      "text/plain": [
       "[0, 1, 2, 3, 5, 6]"
      ]
     },
     "execution_count": 7,
     "metadata": {},
     "output_type": "execute_result"
    }
   ],
   "source": [
    "list(set(a))"
   ]
  },
  {
   "cell_type": "code",
   "execution_count": 8,
   "metadata": {
    "collapsed": false,
    "scrolled": true
   },
   "outputs": [
    {
     "data": {
      "text/plain": [
       "{0, 1, 2, 3, 5, 6}"
      ]
     },
     "execution_count": 8,
     "metadata": {},
     "output_type": "execute_result"
    }
   ],
   "source": [
    "{x % 7 for x in range(10) if x % 3 in (0, 2)}"
   ]
  },
  {
   "cell_type": "markdown",
   "metadata": {},
   "source": [
    "#### Операции с множествами"
   ]
  },
  {
   "cell_type": "code",
   "execution_count": 9,
   "metadata": {
    "collapsed": false,
    "scrolled": true
   },
   "outputs": [
    {
     "data": {
      "text/plain": [
       "({1, 2}, {2, 3})"
      ]
     },
     "execution_count": 9,
     "metadata": {},
     "output_type": "execute_result"
    }
   ],
   "source": [
    "a = set()  # пустое множество\n",
    "b = {2, 3, 4}\n",
    "a.add(1)\n",
    "a.add(2)\n",
    "b.remove(4)\n",
    "a, b"
   ]
  },
  {
   "cell_type": "code",
   "execution_count": 10,
   "metadata": {
    "collapsed": false,
    "scrolled": true
   },
   "outputs": [
    {
     "data": {
      "text/plain": [
       "{1, 2, 3}"
      ]
     },
     "execution_count": 10,
     "metadata": {},
     "output_type": "execute_result"
    }
   ],
   "source": [
    "a | b"
   ]
  },
  {
   "cell_type": "code",
   "execution_count": 11,
   "metadata": {
    "collapsed": false,
    "scrolled": true
   },
   "outputs": [
    {
     "data": {
      "text/plain": [
       "{2}"
      ]
     },
     "execution_count": 11,
     "metadata": {},
     "output_type": "execute_result"
    }
   ],
   "source": [
    "a & b"
   ]
  },
  {
   "cell_type": "code",
   "execution_count": 12,
   "metadata": {
    "collapsed": false,
    "scrolled": true
   },
   "outputs": [
    {
     "data": {
      "text/plain": [
       "{1}"
      ]
     },
     "execution_count": 12,
     "metadata": {},
     "output_type": "execute_result"
    }
   ],
   "source": [
    "a - b"
   ]
  },
  {
   "cell_type": "code",
   "execution_count": 13,
   "metadata": {
    "collapsed": false,
    "scrolled": true
   },
   "outputs": [
    {
     "data": {
      "text/plain": [
       "{1, 3}"
      ]
     },
     "execution_count": 13,
     "metadata": {},
     "output_type": "execute_result"
    }
   ],
   "source": [
    "a ^ b"
   ]
  },
  {
   "cell_type": "code",
   "execution_count": 14,
   "metadata": {
    "collapsed": false,
    "scrolled": true
   },
   "outputs": [
    {
     "data": {
      "text/plain": [
       "{1, 3}"
      ]
     },
     "execution_count": 14,
     "metadata": {},
     "output_type": "execute_result"
    }
   ],
   "source": [
    "a ^= b\n",
    "a"
   ]
  },
  {
   "cell_type": "code",
   "execution_count": 15,
   "metadata": {
    "collapsed": false,
    "scrolled": true
   },
   "outputs": [
    {
     "data": {
      "text/plain": [
       "(True, False)"
      ]
     },
     "execution_count": 15,
     "metadata": {},
     "output_type": "execute_result"
    }
   ],
   "source": [
    "1 in a, 2 in a"
   ]
  },
  {
   "cell_type": "code",
   "execution_count": 16,
   "metadata": {
    "collapsed": false,
    "scrolled": true
   },
   "outputs": [
    {
     "data": {
      "text/plain": [
       "True"
      ]
     },
     "execution_count": 16,
     "metadata": {},
     "output_type": "execute_result"
    }
   ],
   "source": [
    "{3, 1, 2} > {3, 2}"
   ]
  },
  {
   "cell_type": "code",
   "execution_count": 19,
   "metadata": {
    "collapsed": false,
    "scrolled": true
   },
   "outputs": [
    {
     "data": {
      "text/plain": [
       "False"
      ]
     },
     "execution_count": 19,
     "metadata": {},
     "output_type": "execute_result"
    }
   ],
   "source": [
    "{3, 1, 2} > {2, 1, 3}"
   ]
  },
  {
   "cell_type": "code",
   "execution_count": 20,
   "metadata": {
    "collapsed": false
   },
   "outputs": [
    {
     "data": {
      "text/plain": [
       "True"
      ]
     },
     "execution_count": 20,
     "metadata": {},
     "output_type": "execute_result"
    }
   ],
   "source": [
    "{3, 1, 2} >= {2, 1, 3}"
   ]
  },
  {
   "cell_type": "markdown",
   "metadata": {},
   "source": [
    "#### Ограничения на элементы"
   ]
  },
  {
   "cell_type": "code",
   "execution_count": 21,
   "metadata": {
    "collapsed": false,
    "scrolled": true
   },
   "outputs": [
    {
     "data": {
      "text/plain": [
       "{8, True, 'text'}"
      ]
     },
     "execution_count": 21,
     "metadata": {},
     "output_type": "execute_result"
    }
   ],
   "source": [
    "s = set()\n",
    "s.add(8)\n",
    "s.add('text')\n",
    "s.add(True)\n",
    "s"
   ]
  },
  {
   "cell_type": "code",
   "execution_count": 22,
   "metadata": {
    "collapsed": false,
    "scrolled": true
   },
   "outputs": [
    {
     "ename": "TypeError",
     "evalue": "unhashable type: 'list'",
     "output_type": "error",
     "traceback": [
      "\u001b[1;31m---------------------------------------------------------------------------\u001b[0m",
      "\u001b[1;31mTypeError\u001b[0m                                 Traceback (most recent call last)",
      "\u001b[1;32m<ipython-input-22-20294411cb9f>\u001b[0m in \u001b[0;36m<module>\u001b[1;34m()\u001b[0m\n\u001b[1;32m----> 1\u001b[1;33m \u001b[0ms\u001b[0m\u001b[1;33m.\u001b[0m\u001b[0madd\u001b[0m\u001b[1;33m(\u001b[0m\u001b[1;33m[\u001b[0m\u001b[1;36m5\u001b[0m\u001b[1;33m,\u001b[0m \u001b[1;36m6\u001b[0m\u001b[1;33m,\u001b[0m \u001b[1;36m7\u001b[0m\u001b[1;33m]\u001b[0m\u001b[1;33m)\u001b[0m  \u001b[1;31m# элементы изменяемых типов нельзя класть в set\u001b[0m\u001b[1;33m\u001b[0m\u001b[0m\n\u001b[0m",
      "\u001b[1;31mTypeError\u001b[0m: unhashable type: 'list'"
     ]
    }
   ],
   "source": [
    "s.add([5, 6, 7])  # элементы изменяемых типов нельзя класть в set"
   ]
  },
  {
   "cell_type": "code",
   "execution_count": 23,
   "metadata": {
    "collapsed": false,
    "scrolled": true
   },
   "outputs": [
    {
     "data": {
      "text/plain": [
       "{8, True, (5, 6, 7), 'text'}"
      ]
     },
     "execution_count": 23,
     "metadata": {},
     "output_type": "execute_result"
    }
   ],
   "source": [
    "s.add((5, 6, 7))\n",
    "s"
   ]
  },
  {
   "cell_type": "markdown",
   "metadata": {},
   "source": [
    "#### Неизменяемый `set` — `frozenset`"
   ]
  },
  {
   "cell_type": "code",
   "execution_count": 24,
   "metadata": {
    "collapsed": false,
    "scrolled": true
   },
   "outputs": [
    {
     "ename": "TypeError",
     "evalue": "unhashable type: 'set'",
     "output_type": "error",
     "traceback": [
      "\u001b[1;31m---------------------------------------------------------------------------\u001b[0m",
      "\u001b[1;31mTypeError\u001b[0m                                 Traceback (most recent call last)",
      "\u001b[1;32m<ipython-input-24-c1dacdef3eff>\u001b[0m in \u001b[0;36m<module>\u001b[1;34m()\u001b[0m\n\u001b[1;32m----> 1\u001b[1;33m \u001b[0ms\u001b[0m\u001b[1;33m.\u001b[0m\u001b[0madd\u001b[0m\u001b[1;33m(\u001b[0m\u001b[1;33m{\u001b[0m\u001b[1;36m1\u001b[0m\u001b[1;33m}\u001b[0m\u001b[1;33m)\u001b[0m\u001b[1;33m\u001b[0m\u001b[0m\n\u001b[0m",
      "\u001b[1;31mTypeError\u001b[0m: unhashable type: 'set'"
     ]
    }
   ],
   "source": [
    "s.add({1})"
   ]
  },
  {
   "cell_type": "code",
   "execution_count": 25,
   "metadata": {
    "collapsed": false,
    "scrolled": true
   },
   "outputs": [
    {
     "data": {
      "text/plain": [
       "{8, True, (5, 6, 7), 'text', frozenset({2, 3})}"
      ]
     },
     "execution_count": 25,
     "metadata": {},
     "output_type": "execute_result"
    }
   ],
   "source": [
    "s.update((frozenset({2, 3}), frozenset({3, 2})))\n",
    "s"
   ]
  },
  {
   "cell_type": "markdown",
   "metadata": {},
   "source": [
    "#### Особенности"
   ]
  },
  {
   "cell_type": "code",
   "execution_count": 26,
   "metadata": {
    "collapsed": false,
    "scrolled": true
   },
   "outputs": [
    {
     "data": {
      "text/plain": [
       "{0.0, 1.0, None}"
      ]
     },
     "execution_count": 26,
     "metadata": {},
     "output_type": "execute_result"
    }
   ],
   "source": [
    "{False, True, 0, 1, 0.0, 1.0, None}"
   ]
  },
  {
   "cell_type": "code",
   "execution_count": 27,
   "metadata": {
    "collapsed": false,
    "scrolled": true
   },
   "outputs": [
    {
     "data": {
      "text/plain": [
       "True"
      ]
     },
     "execution_count": 27,
     "metadata": {},
     "output_type": "execute_result"
    }
   ],
   "source": [
    "0 == False == 0.0 != 1 == True == 1.0"
   ]
  },
  {
   "cell_type": "markdown",
   "metadata": {},
   "source": [
    "### [Тип `dict`](https://docs.python.org/3/library/stdtypes.html#mapping-types-dict) (словари)"
   ]
  },
  {
   "cell_type": "code",
   "execution_count": 28,
   "metadata": {
    "collapsed": false,
    "scrolled": true
   },
   "outputs": [
    {
     "data": {
      "text/plain": [
       "{(9, 0): [], 3.14: '≈ pi', 5: 'five', '7': 'seven'}"
      ]
     },
     "execution_count": 28,
     "metadata": {},
     "output_type": "execute_result"
    }
   ],
   "source": [
    "d = {5: 'five', '7': 'seven', 3.14: '≈ pi', (9, 0): []}\n",
    "d"
   ]
  },
  {
   "cell_type": "code",
   "execution_count": 29,
   "metadata": {
    "collapsed": false,
    "scrolled": true
   },
   "outputs": [
    {
     "data": {
      "text/plain": [
       "dict"
      ]
     },
     "execution_count": 29,
     "metadata": {},
     "output_type": "execute_result"
    }
   ],
   "source": [
    "type({})  # пустой словарь"
   ]
  },
  {
   "cell_type": "code",
   "execution_count": 30,
   "metadata": {
    "collapsed": false,
    "scrolled": true
   },
   "outputs": [
    {
     "data": {
      "text/plain": [
       "[]"
      ]
     },
     "execution_count": 30,
     "metadata": {},
     "output_type": "execute_result"
    }
   ],
   "source": [
    "d[9, 0]"
   ]
  },
  {
   "cell_type": "code",
   "execution_count": 31,
   "metadata": {
    "collapsed": false,
    "scrolled": true
   },
   "outputs": [
    {
     "data": {
      "text/plain": [
       "{(9, 0): 49, 3.14: '≈ pi', 5: 'five', '7': 'seven'}"
      ]
     },
     "execution_count": 31,
     "metadata": {},
     "output_type": "execute_result"
    }
   ],
   "source": [
    "d[9, 0] = 49\n",
    "d"
   ]
  },
  {
   "cell_type": "code",
   "execution_count": 32,
   "metadata": {
    "collapsed": false,
    "scrolled": true
   },
   "outputs": [
    {
     "data": {
      "text/plain": [
       "{(9, 0): 49,\n",
       " 3.14: '≈ pi',\n",
       " frozenset({'ab', -3}): {89},\n",
       " 5: 'five',\n",
       " '7': 'seven'}"
      ]
     },
     "execution_count": 32,
     "metadata": {},
     "output_type": "execute_result"
    }
   ],
   "source": [
    "d[frozenset({-3, 'ab'})] = {89}\n",
    "d"
   ]
  },
  {
   "cell_type": "code",
   "execution_count": 33,
   "metadata": {
    "collapsed": false,
    "scrolled": true
   },
   "outputs": [
    {
     "data": {
      "text/plain": [
       "{0: 0, 1: 1, 2: 4, 3: 9, 4: 16, 5: 25, 6: 36, 7: 49, 8: 64, 9: 81}"
      ]
     },
     "execution_count": 33,
     "metadata": {},
     "output_type": "execute_result"
    }
   ],
   "source": [
    "{x: x ** 2 for x in range(10)}"
   ]
  },
  {
   "cell_type": "code",
   "execution_count": 34,
   "metadata": {
    "collapsed": false,
    "scrolled": true
   },
   "outputs": [
    {
     "data": {
      "text/plain": [
       "({1: 89}, {1: 89})"
      ]
     },
     "execution_count": 34,
     "metadata": {},
     "output_type": "execute_result"
    }
   ],
   "source": [
    "a = {1: 2}\n",
    "b = a\n",
    "b[1] = 89\n",
    "a, b"
   ]
  },
  {
   "cell_type": "code",
   "execution_count": 35,
   "metadata": {
    "collapsed": false,
    "scrolled": true
   },
   "outputs": [
    {
     "data": {
      "text/plain": [
       "({1: 2}, {1: 89})"
      ]
     },
     "execution_count": 35,
     "metadata": {},
     "output_type": "execute_result"
    }
   ],
   "source": [
    "from copy import deepcopy\n",
    "a = {1: 2}\n",
    "b = deepcopy(a)\n",
    "b[1] = 89\n",
    "a, b"
   ]
  },
  {
   "cell_type": "code",
   "execution_count": 36,
   "metadata": {
    "collapsed": false,
    "scrolled": true
   },
   "outputs": [
    {
     "name": "stdout",
     "output_type": "stream",
     "text": [
      "One\n",
      "Two\n",
      "Three\n"
     ]
    }
   ],
   "source": [
    "d = {'One': 1, 'Two': 2, 'Three': 3}\n",
    "for x in d:\n",
    "    print(x)"
   ]
  },
  {
   "cell_type": "code",
   "execution_count": 37,
   "metadata": {
    "collapsed": false,
    "scrolled": true
   },
   "outputs": [
    {
     "name": "stdout",
     "output_type": "stream",
     "text": [
      "One\n",
      "Two\n",
      "Three\n"
     ]
    }
   ],
   "source": [
    "for key in d.keys():\n",
    "    print(key)"
   ]
  },
  {
   "cell_type": "code",
   "execution_count": 38,
   "metadata": {
    "collapsed": false,
    "scrolled": true
   },
   "outputs": [
    {
     "data": {
      "text/plain": [
       "dict_keys"
      ]
     },
     "execution_count": 38,
     "metadata": {},
     "output_type": "execute_result"
    }
   ],
   "source": [
    "type(d.keys())"
   ]
  },
  {
   "cell_type": "code",
   "execution_count": 39,
   "metadata": {
    "collapsed": false,
    "scrolled": true
   },
   "outputs": [
    {
     "name": "stdout",
     "output_type": "stream",
     "text": [
      "1\n",
      "2\n",
      "3\n"
     ]
    }
   ],
   "source": [
    "for value in d.values():\n",
    "    print(value)"
   ]
  },
  {
   "cell_type": "code",
   "execution_count": 40,
   "metadata": {
    "collapsed": false,
    "scrolled": true
   },
   "outputs": [
    {
     "name": "stdout",
     "output_type": "stream",
     "text": [
      "('One', 1)\n",
      "('Two', 2)\n",
      "('Three', 3)\n"
     ]
    }
   ],
   "source": [
    "for item in d.items():\n",
    "    print(item)"
   ]
  },
  {
   "cell_type": "code",
   "execution_count": 41,
   "metadata": {
    "collapsed": false,
    "scrolled": true
   },
   "outputs": [
    {
     "name": "stdout",
     "output_type": "stream",
     "text": [
      "d[One] = 1\n",
      "d[Two] = 2\n",
      "d[Three] = 3\n"
     ]
    }
   ],
   "source": [
    "for key, value in d.items():\n",
    "    print('d[{}] = {}'.format(key, value))"
   ]
  },
  {
   "cell_type": "code",
   "execution_count": 42,
   "metadata": {
    "collapsed": false,
    "scrolled": true
   },
   "outputs": [
    {
     "data": {
      "text/plain": [
       "[('One', 1), ('Two', 2), ('Three', 3)]"
      ]
     },
     "execution_count": 42,
     "metadata": {},
     "output_type": "execute_result"
    }
   ],
   "source": [
    "list(d.items())"
   ]
  },
  {
   "cell_type": "markdown",
   "metadata": {},
   "source": [
    "#### Распаковка словарей"
   ]
  },
  {
   "cell_type": "code",
   "execution_count": 43,
   "metadata": {
    "collapsed": false
   },
   "outputs": [
    {
     "data": {
      "text/plain": [
       "{'four': 4, 'one': 1, 'three': 3, 'two': 2}"
      ]
     },
     "execution_count": 43,
     "metadata": {},
     "output_type": "execute_result"
    }
   ],
   "source": [
    "a = {'one': 1, 'two': 2}\n",
    "{'three': 3, **a, 'four': 4}"
   ]
  },
  {
   "cell_type": "code",
   "execution_count": 44,
   "metadata": {
    "collapsed": false
   },
   "outputs": [
    {
     "data": {
      "text/plain": [
       "'one = 1, two = 2'"
      ]
     },
     "execution_count": 44,
     "metadata": {},
     "output_type": "execute_result"
    }
   ],
   "source": [
    "'one = {one}, two = {two}'.format(**a)"
   ]
  },
  {
   "cell_type": "markdown",
   "metadata": {},
   "source": [
    "### Функции"
   ]
  },
  {
   "cell_type": "code",
   "execution_count": 45,
   "metadata": {
    "collapsed": true
   },
   "outputs": [],
   "source": [
    "def find_all_squares_in_range(max_value):\n",
    "    squares = []\n",
    "    square_base = 0\n",
    "    while square_base ** 2 <= max_value:\n",
    "        squares.append(square_base ** 2)\n",
    "        square_base += 1\n",
    "    return squares"
   ]
  },
  {
   "cell_type": "code",
   "execution_count": 46,
   "metadata": {
    "collapsed": false
   },
   "outputs": [
    {
     "data": {
      "text/plain": [
       "[0]"
      ]
     },
     "execution_count": 46,
     "metadata": {},
     "output_type": "execute_result"
    }
   ],
   "source": [
    "find_all_squares_in_range(0)"
   ]
  },
  {
   "cell_type": "code",
   "execution_count": 47,
   "metadata": {
    "collapsed": false
   },
   "outputs": [
    {
     "data": {
      "text/plain": [
       "[0, 1, 4, 9, 16, 25, 36, 49, 64, 81, 100]"
      ]
     },
     "execution_count": 47,
     "metadata": {},
     "output_type": "execute_result"
    }
   ],
   "source": [
    "find_all_squares_in_range(111)"
   ]
  },
  {
   "cell_type": "code",
   "execution_count": 48,
   "metadata": {
    "collapsed": false
   },
   "outputs": [
    {
     "data": {
      "text/plain": [
       "14"
      ]
     },
     "execution_count": 48,
     "metadata": {},
     "output_type": "execute_result"
    }
   ],
   "source": [
    "sum(find_all_squares_in_range(10))"
   ]
  },
  {
   "cell_type": "code",
   "execution_count": 49,
   "metadata": {
    "collapsed": true
   },
   "outputs": [],
   "source": [
    "def find_all_squares_in_range(max_value, skip_even=False):\n",
    "    squares = []\n",
    "    square_base = 0\n",
    "    while square_base ** 2 <= max_value:\n",
    "        if not (skip_even and square_base % 2 == 0):\n",
    "            squares.append(square_base ** 2)\n",
    "        square_base += 1\n",
    "    return squares"
   ]
  },
  {
   "cell_type": "code",
   "execution_count": 50,
   "metadata": {
    "collapsed": false
   },
   "outputs": [
    {
     "data": {
      "text/plain": [
       "[1, 9, 25, 49, 81]"
      ]
     },
     "execution_count": 50,
     "metadata": {},
     "output_type": "execute_result"
    }
   ],
   "source": [
    "find_all_squares_in_range(111, True)"
   ]
  },
  {
   "cell_type": "code",
   "execution_count": 51,
   "metadata": {
    "collapsed": false
   },
   "outputs": [
    {
     "data": {
      "text/plain": [
       "[1, 9, 25, 49, 81]"
      ]
     },
     "execution_count": 51,
     "metadata": {},
     "output_type": "execute_result"
    }
   ],
   "source": [
    "find_all_squares_in_range(111, skip_even=True)"
   ]
  },
  {
   "cell_type": "code",
   "execution_count": 52,
   "metadata": {
    "collapsed": true
   },
   "outputs": [],
   "source": [
    "def strange_abs(x):\n",
    "    if x < 0:\n",
    "        return -x"
   ]
  },
  {
   "cell_type": "code",
   "execution_count": 53,
   "metadata": {
    "collapsed": false
   },
   "outputs": [
    {
     "name": "stdout",
     "output_type": "stream",
     "text": [
      "9\n"
     ]
    }
   ],
   "source": [
    "print(strange_abs(-9))"
   ]
  },
  {
   "cell_type": "code",
   "execution_count": 54,
   "metadata": {
    "collapsed": false
   },
   "outputs": [
    {
     "name": "stdout",
     "output_type": "stream",
     "text": [
      "None\n"
     ]
    }
   ],
   "source": [
    "print(strange_abs(9))"
   ]
  },
  {
   "cell_type": "markdown",
   "metadata": {},
   "source": [
    "#### [Лямбда-функции](https://docs.python.org/3.5/tutorial/controlflow.html#lambda-expressions)"
   ]
  },
  {
   "cell_type": "code",
   "execution_count": 55,
   "metadata": {
    "collapsed": false
   },
   "outputs": [
    {
     "data": {
      "text/plain": [
       "<function __main__.<lambda>>"
      ]
     },
     "execution_count": 55,
     "metadata": {},
     "output_type": "execute_result"
    }
   ],
   "source": [
    "average = lambda x, y: (x + y) / 2\n",
    "average"
   ]
  },
  {
   "cell_type": "code",
   "execution_count": 56,
   "metadata": {
    "collapsed": false
   },
   "outputs": [
    {
     "data": {
      "text/plain": [
       "7.5"
      ]
     },
     "execution_count": 56,
     "metadata": {},
     "output_type": "execute_result"
    }
   ],
   "source": [
    "average(6, 9)"
   ]
  },
  {
   "cell_type": "markdown",
   "metadata": {},
   "source": [
    "#### Сортировка по параметру"
   ]
  },
  {
   "cell_type": "code",
   "execution_count": 57,
   "metadata": {
    "collapsed": false
   },
   "outputs": [
    {
     "data": {
      "text/plain": [
       "[(1, 'one'), (2, 'two'), (3, 'three'), (4, 'four')]"
      ]
     },
     "execution_count": 57,
     "metadata": {},
     "output_type": "execute_result"
    }
   ],
   "source": [
    "a = [(1, 'one'), (4, 'four'), (2, 'two'), (3, 'three')]\n",
    "a.sort()\n",
    "a"
   ]
  },
  {
   "cell_type": "code",
   "execution_count": 58,
   "metadata": {
    "collapsed": false
   },
   "outputs": [
    {
     "data": {
      "text/plain": [
       "[(4, 'four'), (1, 'one'), (3, 'three'), (2, 'two')]"
      ]
     },
     "execution_count": 58,
     "metadata": {},
     "output_type": "execute_result"
    }
   ],
   "source": [
    "a.sort(key=lambda item: item[1])  # «ключ» для сортировки — 2-й элемент каждого кортежа\n",
    "a"
   ]
  },
  {
   "cell_type": "code",
   "execution_count": 59,
   "metadata": {
    "collapsed": false
   },
   "outputs": [
    {
     "data": {
      "text/plain": [
       "['Finam', 'Google', 'MOEX', 'Yandex']"
      ]
     },
     "execution_count": 59,
     "metadata": {},
     "output_type": "execute_result"
    }
   ],
   "source": [
    "companies = ['Finam', 'MOEX', 'Yandex', 'Google']\n",
    "sorted(companies)"
   ]
  },
  {
   "cell_type": "code",
   "execution_count": 60,
   "metadata": {
    "collapsed": false
   },
   "outputs": [
    {
     "data": {
      "text/plain": [
       "['Yandex', 'Google', 'Finam', 'MOEX']"
      ]
     },
     "execution_count": 60,
     "metadata": {},
     "output_type": "execute_result"
    }
   ],
   "source": [
    "# сравниваем сначала по длине, затем по названию; обратный порядок\n",
    "sorted(companies, key=lambda name: (len(name), name), reverse=True)"
   ]
  },
  {
   "cell_type": "markdown",
   "metadata": {},
   "source": [
    "#### Обработка произвольного числа аргументов"
   ]
  },
  {
   "cell_type": "code",
   "execution_count": 61,
   "metadata": {
    "collapsed": false
   },
   "outputs": [
    {
     "name": "stdout",
     "output_type": "stream",
     "text": [
      "Positional arguments: (2, 'text', None),\n",
      "keyword arguments: {'third': 3, 'second': 2, 'first': 1}\n"
     ]
    }
   ],
   "source": [
    "def print_all_args(*args, **kwargs):\n",
    "    print('Positional arguments: {},\\nkeyword arguments: {}'.format(args, kwargs))\n",
    "    \n",
    "print_all_args(2, 'text', None, first=1, second=2, third=3)"
   ]
  },
  {
   "cell_type": "markdown",
   "metadata": {},
   "source": [
    "#### Генераторы"
   ]
  },
  {
   "cell_type": "code",
   "execution_count": 62,
   "metadata": {
    "collapsed": true
   },
   "outputs": [],
   "source": [
    "def find_all_squares_in_range_better(max_value):\n",
    "    square_base = 0\n",
    "    while square_base ** 2 <= max_value:\n",
    "        yield square_base ** 2\n",
    "        square_base += 1"
   ]
  },
  {
   "cell_type": "code",
   "execution_count": 63,
   "metadata": {
    "collapsed": false
   },
   "outputs": [
    {
     "data": {
      "text/plain": [
       "generator"
      ]
     },
     "execution_count": 63,
     "metadata": {},
     "output_type": "execute_result"
    }
   ],
   "source": [
    "type(find_all_squares_in_range_better(10))"
   ]
  },
  {
   "cell_type": "code",
   "execution_count": 64,
   "metadata": {
    "collapsed": false
   },
   "outputs": [
    {
     "data": {
      "text/plain": [
       "14"
      ]
     },
     "execution_count": 64,
     "metadata": {},
     "output_type": "execute_result"
    }
   ],
   "source": [
    "sum(find_all_squares_in_range_better(10))"
   ]
  },
  {
   "cell_type": "code",
   "execution_count": 65,
   "metadata": {
    "collapsed": false
   },
   "outputs": [
    {
     "data": {
      "text/plain": [
       "[0, 1, 4, 9]"
      ]
     },
     "execution_count": 65,
     "metadata": {},
     "output_type": "execute_result"
    }
   ],
   "source": [
    "list(find_all_squares_in_range_better(10))"
   ]
  },
  {
   "cell_type": "markdown",
   "metadata": {},
   "source": [
    "### [PEP8](https://www.python.org/dev/peps/pep-0008/): рекомендации по оформлению кода"
   ]
  },
  {
   "cell_type": "markdown",
   "metadata": {},
   "source": [
    "### [`Fraction`](https://docs.python.org/3/library/fractions.html#module-fractions) — рациональные дроби"
   ]
  },
  {
   "cell_type": "markdown",
   "metadata": {},
   "source": [
    "### [`Decimal`](https://docs.python.org/3/library/decimal.html#module-decimal) — вещественные числа произвольной точности"
   ]
  },
  {
   "cell_type": "markdown",
   "metadata": {},
   "source": [
    "### [Модуль `datetime`](https://docs.python.org/3/library/datetime.html#module-datetime): работа с датой и временем"
   ]
  },
  {
   "cell_type": "code",
   "execution_count": 66,
   "metadata": {
    "collapsed": false
   },
   "outputs": [
    {
     "data": {
      "text/plain": [
       "datetime.time(21, 4, 39)"
      ]
     },
     "execution_count": 66,
     "metadata": {},
     "output_type": "execute_result"
    }
   ],
   "source": [
    "import datetime as dt\n",
    "dt.time(21, 4, 39)"
   ]
  },
  {
   "cell_type": "code",
   "execution_count": 67,
   "metadata": {
    "collapsed": false
   },
   "outputs": [
    {
     "data": {
      "text/plain": [
       "datetime.time(21, 4, 39)"
      ]
     },
     "execution_count": 67,
     "metadata": {},
     "output_type": "execute_result"
    }
   ],
   "source": [
    "from datetime import time\n",
    "time(21, 4, 39)"
   ]
  },
  {
   "cell_type": "code",
   "execution_count": 68,
   "metadata": {
    "collapsed": false
   },
   "outputs": [
    {
     "data": {
      "text/plain": [
       "datetime.datetime(2016, 6, 3, 17, 24, 4)"
      ]
     },
     "execution_count": 68,
     "metadata": {},
     "output_type": "execute_result"
    }
   ],
   "source": [
    "ts = dt.datetime(2016, 6, 3, 17, 24, 4)\n",
    "ts"
   ]
  },
  {
   "cell_type": "code",
   "execution_count": 69,
   "metadata": {
    "collapsed": false
   },
   "outputs": [
    {
     "data": {
      "text/plain": [
       "3"
      ]
     },
     "execution_count": 69,
     "metadata": {},
     "output_type": "execute_result"
    }
   ],
   "source": [
    "ts.day"
   ]
  },
  {
   "cell_type": "code",
   "execution_count": 70,
   "metadata": {
    "collapsed": false
   },
   "outputs": [
    {
     "data": {
      "text/plain": [
       "24"
      ]
     },
     "execution_count": 70,
     "metadata": {},
     "output_type": "execute_result"
    }
   ],
   "source": [
    "ts.minute"
   ]
  },
  {
   "cell_type": "code",
   "execution_count": 71,
   "metadata": {
    "collapsed": false
   },
   "outputs": [
    {
     "data": {
      "text/plain": [
       "'03.06.2016 17:24:04'"
      ]
     },
     "execution_count": 71,
     "metadata": {},
     "output_type": "execute_result"
    }
   ],
   "source": [
    "ts.strftime('%d.%m.%Y %H:%M:%S')"
   ]
  },
  {
   "cell_type": "code",
   "execution_count": 72,
   "metadata": {
    "collapsed": false
   },
   "outputs": [
    {
     "data": {
      "text/plain": [
       "datetime.datetime(2016, 6, 3, 17, 24, 4)"
      ]
     },
     "execution_count": 72,
     "metadata": {},
     "output_type": "execute_result"
    }
   ],
   "source": [
    "dt.datetime.strptime('03.06.2016 17:24:04', '%d.%m.%Y %H:%M:%S')"
   ]
  },
  {
   "cell_type": "code",
   "execution_count": 73,
   "metadata": {
    "collapsed": false
   },
   "outputs": [
    {
     "data": {
      "text/plain": [
       "datetime.timedelta(0, 5400)"
      ]
     },
     "execution_count": 73,
     "metadata": {},
     "output_type": "execute_result"
    }
   ],
   "source": [
    "lecture_start = dt.datetime(2016, 9, 8, 20, 45)\n",
    "lecture_end = dt.datetime(2016, 9, 8, 22, 15)\n",
    "td = lecture_end - lecture_start\n",
    "td"
   ]
  },
  {
   "cell_type": "code",
   "execution_count": 74,
   "metadata": {
    "collapsed": false
   },
   "outputs": [
    {
     "data": {
      "text/plain": [
       "5400.0"
      ]
     },
     "execution_count": 74,
     "metadata": {},
     "output_type": "execute_result"
    }
   ],
   "source": [
    "td.total_seconds()"
   ]
  },
  {
   "cell_type": "code",
   "execution_count": 75,
   "metadata": {
    "collapsed": false
   },
   "outputs": [
    {
     "data": {
      "text/plain": [
       "datetime.datetime(2016, 9, 8, 22, 15)"
      ]
     },
     "execution_count": 75,
     "metadata": {},
     "output_type": "execute_result"
    }
   ],
   "source": [
    "lecture_start + td"
   ]
  },
  {
   "cell_type": "code",
   "execution_count": 76,
   "metadata": {
    "collapsed": false
   },
   "outputs": [
    {
     "data": {
      "text/plain": [
       "datetime.datetime(2016, 9, 11, 10, 30, 10, 684015)"
      ]
     },
     "execution_count": 76,
     "metadata": {},
     "output_type": "execute_result"
    }
   ],
   "source": [
    "dt.datetime.now()"
   ]
  },
  {
   "cell_type": "markdown",
   "metadata": {},
   "source": [
    "### Загрузка данных из файлов"
   ]
  },
  {
   "cell_type": "markdown",
   "metadata": {},
   "source": [
    "#### [Загружаем котировки](http://www.finam.ru/profile/moex-akcii/pllc-yandex-n-v/export/?market=1&em=388383&code=YNDX&apply=0&df=7&mf=8&yf=2016&from=07.09.2016&dt=7&mt=8&yt=2016&to=07.09.2016&p=7&f=YNDX_160907_160907&e=.txt&cn=YNDX&dtf=1&tmf=1&MSOR=1&mstime=on&mstimever=1&sep=1&sep2=1&datf=1&at=1)\n",
    "\n",
    "![](finam-2-yndx-params.png)"
   ]
  },
  {
   "cell_type": "code",
   "execution_count": 77,
   "metadata": {
    "collapsed": false
   },
   "outputs": [
    {
     "name": "stdout",
     "output_type": "stream",
     "text": [
      " ’®¬ ў гбва®©бвўҐ C ­Ґ Ё¬ҐҐв ¬ҐвЄЁ.\n",
      " ‘ҐаЁ©­л© ­®¬Ґа в®¬ : B019-4922\n",
      "\n",
      " ‘®¤Ґа¦Ё¬®Ґ Ї ЇЄЁ C:\\Users\\User\\Documents\\IPython Notebooks\\”Ё­ ¬\\jupyter-notebooks\n",
      "\n",
      "11.09.2016  10:30    <DIR>          .\n",
      "11.09.2016  10:30    <DIR>          ..\n",
      "08.09.2016  09:12    <DIR>          .ipynb_checkpoints\n",
      "11.09.2016  10:26            69я239 finam-1.ipynb\n",
      "11.09.2016  10:30            42я954 finam-2.ipynb\n",
      "07.09.2016  22:42            26я248 finam-2-yndx-params.png\n",
      "07.09.2016  22:09           162я023 YNDX_160901_160907.csv\n",
      "               4 д ©«®ў        300я464 Ў ©в\n",
      "               3 Ї Ї®Є  10я772я836я352 Ў ©в бў®Ў®¤­®\n"
     ]
    }
   ],
   "source": [
    "%ls"
   ]
  },
  {
   "cell_type": "code",
   "execution_count": 78,
   "metadata": {
    "collapsed": true
   },
   "outputs": [],
   "source": [
    "filename = 'YNDX_160901_160907.csv'\n",
    "file = open(filename)"
   ]
  },
  {
   "cell_type": "code",
   "execution_count": 79,
   "metadata": {
    "collapsed": false
   },
   "outputs": [
    {
     "data": {
      "text/plain": [
       "'<TICKER>,<PER>,<DATE>,<TIME>,<LAST>,<VOL>\\nYNDX,0,20160901,100003,1430.500000000,7\\nYNDX,0,20160901,10'"
      ]
     },
     "execution_count": 79,
     "metadata": {},
     "output_type": "execute_result"
    }
   ],
   "source": [
    "file.read()[:100]"
   ]
  },
  {
   "cell_type": "code",
   "execution_count": 80,
   "metadata": {
    "collapsed": true
   },
   "outputs": [],
   "source": [
    "file = open(filename)"
   ]
  },
  {
   "cell_type": "code",
   "execution_count": 81,
   "metadata": {
    "collapsed": false
   },
   "outputs": [
    {
     "data": {
      "text/plain": [
       "'<TICKER>,<PER>,<DATE>,<TIME>,<LAST>,<VOL>\\n'"
      ]
     },
     "execution_count": 81,
     "metadata": {},
     "output_type": "execute_result"
    }
   ],
   "source": [
    "file.readline()"
   ]
  },
  {
   "cell_type": "code",
   "execution_count": 82,
   "metadata": {
    "collapsed": false
   },
   "outputs": [
    {
     "data": {
      "text/plain": [
       "['<TICKER>,<PER>,<DATE>,<TIME>,<LAST>,<VOL>\\n',\n",
       " 'YNDX,0,20160901,100003,1430.500000000,7\\n',\n",
       " 'YNDX,0,20160901,100010,1431.000000000,1\\n',\n",
       " 'YNDX,0,20160901,100010,1431.000000000,23\\n',\n",
       " 'YNDX,0,20160901,100010,1431.000000000,9\\n',\n",
       " 'YNDX,0,20160901,100010,1430.500000000,6\\n',\n",
       " 'YNDX,0,20160901,100014,1438.000000000,1\\n',\n",
       " 'YNDX,0,20160901,100018,1431.500000000,16\\n',\n",
       " 'YNDX,0,20160901,100018,1431.500000000,5\\n',\n",
       " 'YNDX,0,20160901,100018,1431.500000000,5\\n']"
      ]
     },
     "execution_count": 82,
     "metadata": {},
     "output_type": "execute_result"
    }
   ],
   "source": [
    "lines = open(filename).readlines()\n",
    "lines[:10]"
   ]
  },
  {
   "cell_type": "code",
   "execution_count": 83,
   "metadata": {
    "collapsed": false
   },
   "outputs": [
    {
     "data": {
      "text/plain": [
       "('<TICKER>,<PER>,<DATE>,<TIME>,<LAST>,<VOL>\\n',\n",
       " ['YNDX,0,20160901,100003,1430.500000000,7\\n',\n",
       "  'YNDX,0,20160901,100010,1431.000000000,1\\n',\n",
       "  'YNDX,0,20160901,100010,1431.000000000,23\\n',\n",
       "  'YNDX,0,20160901,100010,1431.000000000,9\\n',\n",
       "  'YNDX,0,20160901,100010,1430.500000000,6\\n',\n",
       "  'YNDX,0,20160901,100014,1438.000000000,1\\n',\n",
       "  'YNDX,0,20160901,100018,1431.500000000,16\\n',\n",
       "  'YNDX,0,20160901,100018,1431.500000000,5\\n',\n",
       "  'YNDX,0,20160901,100018,1431.500000000,5\\n',\n",
       "  'YNDX,0,20160901,100018,1430.500000000,21\\n'])"
      ]
     },
     "execution_count": 83,
     "metadata": {},
     "output_type": "execute_result"
    }
   ],
   "source": [
    "header, *lines = open(filename)\n",
    "header, lines[:10]"
   ]
  },
  {
   "cell_type": "code",
   "execution_count": 84,
   "metadata": {
    "collapsed": false
   },
   "outputs": [
    {
     "data": {
      "text/plain": [
       "['Ticker', 'Per', 'Date', 'Time', 'Last', 'Vol']"
      ]
     },
     "execution_count": 84,
     "metadata": {},
     "output_type": "execute_result"
    }
   ],
   "source": [
    "header = [name[1:-1].capitalize() for name in header.strip().split(',')]\n",
    "header"
   ]
  },
  {
   "cell_type": "code",
   "execution_count": 85,
   "metadata": {
    "collapsed": false
   },
   "outputs": [
    {
     "data": {
      "text/plain": [
       "[['YNDX', '0', '20160901', '100003', '1430.500000000', '7'],\n",
       " ['YNDX', '0', '20160901', '100010', '1431.000000000', '1'],\n",
       " ['YNDX', '0', '20160901', '100010', '1431.000000000', '23'],\n",
       " ['YNDX', '0', '20160901', '100010', '1431.000000000', '9'],\n",
       " ['YNDX', '0', '20160901', '100010', '1430.500000000', '6'],\n",
       " ['YNDX', '0', '20160901', '100014', '1438.000000000', '1'],\n",
       " ['YNDX', '0', '20160901', '100018', '1431.500000000', '16'],\n",
       " ['YNDX', '0', '20160901', '100018', '1431.500000000', '5'],\n",
       " ['YNDX', '0', '20160901', '100018', '1431.500000000', '5'],\n",
       " ['YNDX', '0', '20160901', '100018', '1430.500000000', '21']]"
      ]
     },
     "execution_count": 85,
     "metadata": {},
     "output_type": "execute_result"
    }
   ],
   "source": [
    "[\n",
    "    line.strip().split(',')\n",
    "    for line in lines\n",
    "][:10]"
   ]
  },
  {
   "cell_type": "code",
   "execution_count": 86,
   "metadata": {
    "collapsed": false
   },
   "outputs": [
    {
     "data": {
      "text/plain": [
       "[{'Date': '20160901',\n",
       "  'Last': '1430.500000000',\n",
       "  'Per': '0',\n",
       "  'Ticker': 'YNDX',\n",
       "  'Time': '100003',\n",
       "  'Vol': '7'},\n",
       " {'Date': '20160901',\n",
       "  'Last': '1431.000000000',\n",
       "  'Per': '0',\n",
       "  'Ticker': 'YNDX',\n",
       "  'Time': '100010',\n",
       "  'Vol': '1'},\n",
       " {'Date': '20160901',\n",
       "  'Last': '1431.000000000',\n",
       "  'Per': '0',\n",
       "  'Ticker': 'YNDX',\n",
       "  'Time': '100010',\n",
       "  'Vol': '23'},\n",
       " {'Date': '20160901',\n",
       "  'Last': '1431.000000000',\n",
       "  'Per': '0',\n",
       "  'Ticker': 'YNDX',\n",
       "  'Time': '100010',\n",
       "  'Vol': '9'},\n",
       " {'Date': '20160901',\n",
       "  'Last': '1430.500000000',\n",
       "  'Per': '0',\n",
       "  'Ticker': 'YNDX',\n",
       "  'Time': '100010',\n",
       "  'Vol': '6'}]"
      ]
     },
     "execution_count": 86,
     "metadata": {},
     "output_type": "execute_result"
    }
   ],
   "source": [
    "# zip позволяет одновременно пройтись по двум последовательностям одинаковой длины\n",
    "[\n",
    "    {\n",
    "        name: value\n",
    "        for name, value in zip(header, line.strip().split(','))\n",
    "    }\n",
    "    for line in lines\n",
    "][:5]"
   ]
  },
  {
   "cell_type": "markdown",
   "metadata": {},
   "source": [
    "### [pandas](http://pandas.pydata.org/pandas-docs/stable/)"
   ]
  },
  {
   "cell_type": "code",
   "execution_count": 87,
   "metadata": {
    "collapsed": true
   },
   "outputs": [],
   "source": [
    "import pandas as pd"
   ]
  },
  {
   "cell_type": "code",
   "execution_count": 88,
   "metadata": {
    "collapsed": false
   },
   "outputs": [
    {
     "data": {
      "text/html": [
       "<div>\n",
       "<table border=\"1\" class=\"dataframe\">\n",
       "  <thead>\n",
       "    <tr style=\"text-align: right;\">\n",
       "      <th></th>\n",
       "      <th>&lt;TICKER&gt;</th>\n",
       "      <th>&lt;PER&gt;</th>\n",
       "      <th>&lt;DATE&gt;</th>\n",
       "      <th>&lt;TIME&gt;</th>\n",
       "      <th>&lt;LAST&gt;</th>\n",
       "      <th>&lt;VOL&gt;</th>\n",
       "    </tr>\n",
       "  </thead>\n",
       "  <tbody>\n",
       "    <tr>\n",
       "      <th>0</th>\n",
       "      <td>YNDX</td>\n",
       "      <td>0</td>\n",
       "      <td>20160901</td>\n",
       "      <td>100003</td>\n",
       "      <td>1430.5</td>\n",
       "      <td>7</td>\n",
       "    </tr>\n",
       "    <tr>\n",
       "      <th>1</th>\n",
       "      <td>YNDX</td>\n",
       "      <td>0</td>\n",
       "      <td>20160901</td>\n",
       "      <td>100010</td>\n",
       "      <td>1431.0</td>\n",
       "      <td>1</td>\n",
       "    </tr>\n",
       "    <tr>\n",
       "      <th>2</th>\n",
       "      <td>YNDX</td>\n",
       "      <td>0</td>\n",
       "      <td>20160901</td>\n",
       "      <td>100010</td>\n",
       "      <td>1431.0</td>\n",
       "      <td>23</td>\n",
       "    </tr>\n",
       "    <tr>\n",
       "      <th>3</th>\n",
       "      <td>YNDX</td>\n",
       "      <td>0</td>\n",
       "      <td>20160901</td>\n",
       "      <td>100010</td>\n",
       "      <td>1431.0</td>\n",
       "      <td>9</td>\n",
       "    </tr>\n",
       "    <tr>\n",
       "      <th>4</th>\n",
       "      <td>YNDX</td>\n",
       "      <td>0</td>\n",
       "      <td>20160901</td>\n",
       "      <td>100010</td>\n",
       "      <td>1430.5</td>\n",
       "      <td>6</td>\n",
       "    </tr>\n",
       "  </tbody>\n",
       "</table>\n",
       "</div>"
      ],
      "text/plain": [
       "  <TICKER>  <PER>    <DATE>  <TIME>  <LAST>  <VOL>\n",
       "0     YNDX      0  20160901  100003  1430.5      7\n",
       "1     YNDX      0  20160901  100010  1431.0      1\n",
       "2     YNDX      0  20160901  100010  1431.0     23\n",
       "3     YNDX      0  20160901  100010  1431.0      9\n",
       "4     YNDX      0  20160901  100010  1430.5      6"
      ]
     },
     "execution_count": 88,
     "metadata": {},
     "output_type": "execute_result"
    }
   ],
   "source": [
    "data = pd.read_csv(filename)\n",
    "data.head(5)"
   ]
  },
  {
   "cell_type": "code",
   "execution_count": 89,
   "metadata": {
    "collapsed": false
   },
   "outputs": [
    {
     "data": {
      "text/html": [
       "<div>\n",
       "<table border=\"1\" class=\"dataframe\">\n",
       "  <thead>\n",
       "    <tr style=\"text-align: right;\">\n",
       "      <th></th>\n",
       "      <th>&lt;TICKER&gt;</th>\n",
       "      <th>&lt;PER&gt;</th>\n",
       "      <th>&lt;LAST&gt;</th>\n",
       "      <th>&lt;VOL&gt;</th>\n",
       "    </tr>\n",
       "    <tr>\n",
       "      <th>&lt;DATETIME&gt;</th>\n",
       "      <th></th>\n",
       "      <th></th>\n",
       "      <th></th>\n",
       "      <th></th>\n",
       "    </tr>\n",
       "  </thead>\n",
       "  <tbody>\n",
       "    <tr>\n",
       "      <th>2016-09-01 10:00:03</th>\n",
       "      <td>YNDX</td>\n",
       "      <td>0</td>\n",
       "      <td>1430.5</td>\n",
       "      <td>7</td>\n",
       "    </tr>\n",
       "    <tr>\n",
       "      <th>2016-09-01 10:00:10</th>\n",
       "      <td>YNDX</td>\n",
       "      <td>0</td>\n",
       "      <td>1431.0</td>\n",
       "      <td>1</td>\n",
       "    </tr>\n",
       "    <tr>\n",
       "      <th>2016-09-01 10:00:10</th>\n",
       "      <td>YNDX</td>\n",
       "      <td>0</td>\n",
       "      <td>1431.0</td>\n",
       "      <td>23</td>\n",
       "    </tr>\n",
       "    <tr>\n",
       "      <th>2016-09-01 10:00:10</th>\n",
       "      <td>YNDX</td>\n",
       "      <td>0</td>\n",
       "      <td>1431.0</td>\n",
       "      <td>9</td>\n",
       "    </tr>\n",
       "    <tr>\n",
       "      <th>2016-09-01 10:00:10</th>\n",
       "      <td>YNDX</td>\n",
       "      <td>0</td>\n",
       "      <td>1430.5</td>\n",
       "      <td>6</td>\n",
       "    </tr>\n",
       "  </tbody>\n",
       "</table>\n",
       "</div>"
      ],
      "text/plain": [
       "                    <TICKER>  <PER>  <LAST>  <VOL>\n",
       "<DATETIME>                                        \n",
       "2016-09-01 10:00:03     YNDX      0  1430.5      7\n",
       "2016-09-01 10:00:10     YNDX      0  1431.0      1\n",
       "2016-09-01 10:00:10     YNDX      0  1431.0     23\n",
       "2016-09-01 10:00:10     YNDX      0  1431.0      9\n",
       "2016-09-01 10:00:10     YNDX      0  1430.5      6"
      ]
     },
     "execution_count": 89,
     "metadata": {},
     "output_type": "execute_result"
    }
   ],
   "source": [
    "data = pd.read_csv(\n",
    "    filename,\n",
    "    parse_dates={'<DATETIME>': ['<DATE>', '<TIME>']},\n",
    "    index_col='<DATETIME>'\n",
    ")\n",
    "data.head(5)"
   ]
  },
  {
   "cell_type": "code",
   "execution_count": 90,
   "metadata": {
    "collapsed": false
   },
   "outputs": [
    {
     "data": {
      "text/html": [
       "<div>\n",
       "<table border=\"1\" class=\"dataframe\">\n",
       "  <thead>\n",
       "    <tr style=\"text-align: right;\">\n",
       "      <th></th>\n",
       "      <th>ticker</th>\n",
       "      <th>per</th>\n",
       "      <th>price</th>\n",
       "      <th>vol</th>\n",
       "    </tr>\n",
       "    <tr>\n",
       "      <th>&lt;DATETIME&gt;</th>\n",
       "      <th></th>\n",
       "      <th></th>\n",
       "      <th></th>\n",
       "      <th></th>\n",
       "    </tr>\n",
       "  </thead>\n",
       "  <tbody>\n",
       "    <tr>\n",
       "      <th>2016-09-01 10:00:03</th>\n",
       "      <td>YNDX</td>\n",
       "      <td>0</td>\n",
       "      <td>1430.5</td>\n",
       "      <td>7</td>\n",
       "    </tr>\n",
       "    <tr>\n",
       "      <th>2016-09-01 10:00:10</th>\n",
       "      <td>YNDX</td>\n",
       "      <td>0</td>\n",
       "      <td>1431.0</td>\n",
       "      <td>1</td>\n",
       "    </tr>\n",
       "    <tr>\n",
       "      <th>2016-09-01 10:00:10</th>\n",
       "      <td>YNDX</td>\n",
       "      <td>0</td>\n",
       "      <td>1431.0</td>\n",
       "      <td>23</td>\n",
       "    </tr>\n",
       "    <tr>\n",
       "      <th>2016-09-01 10:00:10</th>\n",
       "      <td>YNDX</td>\n",
       "      <td>0</td>\n",
       "      <td>1431.0</td>\n",
       "      <td>9</td>\n",
       "    </tr>\n",
       "    <tr>\n",
       "      <th>2016-09-01 10:00:10</th>\n",
       "      <td>YNDX</td>\n",
       "      <td>0</td>\n",
       "      <td>1430.5</td>\n",
       "      <td>6</td>\n",
       "    </tr>\n",
       "  </tbody>\n",
       "</table>\n",
       "</div>"
      ],
      "text/plain": [
       "                    ticker  per   price  vol\n",
       "<DATETIME>                                  \n",
       "2016-09-01 10:00:03   YNDX    0  1430.5    7\n",
       "2016-09-01 10:00:10   YNDX    0  1431.0    1\n",
       "2016-09-01 10:00:10   YNDX    0  1431.0   23\n",
       "2016-09-01 10:00:10   YNDX    0  1431.0    9\n",
       "2016-09-01 10:00:10   YNDX    0  1430.5    6"
      ]
     },
     "execution_count": 90,
     "metadata": {},
     "output_type": "execute_result"
    }
   ],
   "source": [
    "data.rename(columns=lambda name: name[1:-1].lower(), inplace=True)\n",
    "data.rename(columns={'last': 'price'}, inplace=True)\n",
    "data.head(5)"
   ]
  },
  {
   "cell_type": "code",
   "execution_count": 91,
   "metadata": {
    "collapsed": false
   },
   "outputs": [
    {
     "data": {
      "text/html": [
       "<div>\n",
       "<table border=\"1\" class=\"dataframe\">\n",
       "  <thead>\n",
       "    <tr style=\"text-align: right;\">\n",
       "      <th></th>\n",
       "      <th>price</th>\n",
       "      <th>vol</th>\n",
       "    </tr>\n",
       "    <tr>\n",
       "      <th>&lt;DATETIME&gt;</th>\n",
       "      <th></th>\n",
       "      <th></th>\n",
       "    </tr>\n",
       "  </thead>\n",
       "  <tbody>\n",
       "    <tr>\n",
       "      <th>2016-09-01 10:00:03</th>\n",
       "      <td>1430.5</td>\n",
       "      <td>7</td>\n",
       "    </tr>\n",
       "    <tr>\n",
       "      <th>2016-09-01 10:00:10</th>\n",
       "      <td>1431.0</td>\n",
       "      <td>1</td>\n",
       "    </tr>\n",
       "    <tr>\n",
       "      <th>2016-09-01 10:00:10</th>\n",
       "      <td>1431.0</td>\n",
       "      <td>23</td>\n",
       "    </tr>\n",
       "    <tr>\n",
       "      <th>2016-09-01 10:00:10</th>\n",
       "      <td>1431.0</td>\n",
       "      <td>9</td>\n",
       "    </tr>\n",
       "    <tr>\n",
       "      <th>2016-09-01 10:00:10</th>\n",
       "      <td>1430.5</td>\n",
       "      <td>6</td>\n",
       "    </tr>\n",
       "  </tbody>\n",
       "</table>\n",
       "</div>"
      ],
      "text/plain": [
       "                      price  vol\n",
       "<DATETIME>                      \n",
       "2016-09-01 10:00:03  1430.5    7\n",
       "2016-09-01 10:00:10  1431.0    1\n",
       "2016-09-01 10:00:10  1431.0   23\n",
       "2016-09-01 10:00:10  1431.0    9\n",
       "2016-09-01 10:00:10  1430.5    6"
      ]
     },
     "execution_count": 91,
     "metadata": {},
     "output_type": "execute_result"
    }
   ],
   "source": [
    "data.drop(['ticker', 'per'], axis=1, inplace=True)\n",
    "data.head(5)"
   ]
  },
  {
   "cell_type": "code",
   "execution_count": 92,
   "metadata": {
    "collapsed": false
   },
   "outputs": [
    {
     "data": {
      "text/html": [
       "<div>\n",
       "<table border=\"1\" class=\"dataframe\">\n",
       "  <thead>\n",
       "    <tr style=\"text-align: right;\">\n",
       "      <th></th>\n",
       "      <th>price</th>\n",
       "      <th>vol</th>\n",
       "    </tr>\n",
       "  </thead>\n",
       "  <tbody>\n",
       "    <tr>\n",
       "      <th>count</th>\n",
       "      <td>3893.000000</td>\n",
       "      <td>3893.000000</td>\n",
       "    </tr>\n",
       "    <tr>\n",
       "      <th>mean</th>\n",
       "      <td>1446.438351</td>\n",
       "      <td>35.599538</td>\n",
       "    </tr>\n",
       "    <tr>\n",
       "      <th>std</th>\n",
       "      <td>18.306256</td>\n",
       "      <td>78.610474</td>\n",
       "    </tr>\n",
       "    <tr>\n",
       "      <th>min</th>\n",
       "      <td>1410.500000</td>\n",
       "      <td>1.000000</td>\n",
       "    </tr>\n",
       "    <tr>\n",
       "      <th>25%</th>\n",
       "      <td>1431.500000</td>\n",
       "      <td>2.000000</td>\n",
       "    </tr>\n",
       "    <tr>\n",
       "      <th>50%</th>\n",
       "      <td>1445.500000</td>\n",
       "      <td>10.000000</td>\n",
       "    </tr>\n",
       "    <tr>\n",
       "      <th>75%</th>\n",
       "      <td>1462.000000</td>\n",
       "      <td>37.000000</td>\n",
       "    </tr>\n",
       "    <tr>\n",
       "      <th>max</th>\n",
       "      <td>1482.500000</td>\n",
       "      <td>1000.000000</td>\n",
       "    </tr>\n",
       "  </tbody>\n",
       "</table>\n",
       "</div>"
      ],
      "text/plain": [
       "             price          vol\n",
       "count  3893.000000  3893.000000\n",
       "mean   1446.438351    35.599538\n",
       "std      18.306256    78.610474\n",
       "min    1410.500000     1.000000\n",
       "25%    1431.500000     2.000000\n",
       "50%    1445.500000    10.000000\n",
       "75%    1462.000000    37.000000\n",
       "max    1482.500000  1000.000000"
      ]
     },
     "execution_count": 92,
     "metadata": {},
     "output_type": "execute_result"
    }
   ],
   "source": [
    "data.describe()"
   ]
  },
  {
   "cell_type": "code",
   "execution_count": 93,
   "metadata": {
    "collapsed": false
   },
   "outputs": [
    {
     "data": {
      "text/plain": [
       "<DATETIME>\n",
       "2016-09-01 10:00:03    1430.5\n",
       "2016-09-01 10:00:10    1431.0\n",
       "2016-09-01 10:00:10    1431.0\n",
       "2016-09-01 10:00:10    1431.0\n",
       "2016-09-01 10:00:10    1430.5\n",
       "Name: price, dtype: float64"
      ]
     },
     "execution_count": 93,
     "metadata": {},
     "output_type": "execute_result"
    }
   ],
   "source": [
    "data.price.head(5)"
   ]
  },
  {
   "cell_type": "code",
   "execution_count": 94,
   "metadata": {
    "collapsed": false
   },
   "outputs": [
    {
     "data": {
      "text/plain": [
       "(1410.5, 1482.5, 1445.5, 18.306256155837445)"
      ]
     },
     "execution_count": 94,
     "metadata": {},
     "output_type": "execute_result"
    }
   ],
   "source": [
    "data.price.min(), data.price.max(), data.price.median(), data.price.std()"
   ]
  },
  {
   "cell_type": "code",
   "execution_count": 95,
   "metadata": {
    "collapsed": false
   },
   "outputs": [
    {
     "data": {
      "text/plain": [
       "price    1430.5\n",
       "vol         7.0\n",
       "Name: 2016-09-01 10:00:03, dtype: float64"
      ]
     },
     "execution_count": 95,
     "metadata": {},
     "output_type": "execute_result"
    }
   ],
   "source": [
    "data.iloc[0]"
   ]
  },
  {
   "cell_type": "code",
   "execution_count": 96,
   "metadata": {
    "collapsed": false
   },
   "outputs": [
    {
     "data": {
      "text/html": [
       "<div>\n",
       "<table border=\"1\" class=\"dataframe\">\n",
       "  <thead>\n",
       "    <tr style=\"text-align: right;\">\n",
       "      <th></th>\n",
       "      <th>price</th>\n",
       "      <th>vol</th>\n",
       "    </tr>\n",
       "    <tr>\n",
       "      <th>&lt;DATETIME&gt;</th>\n",
       "      <th></th>\n",
       "      <th></th>\n",
       "    </tr>\n",
       "  </thead>\n",
       "  <tbody>\n",
       "    <tr>\n",
       "      <th>2016-09-02 15:17:40</th>\n",
       "      <td>1460.5</td>\n",
       "      <td>5</td>\n",
       "    </tr>\n",
       "    <tr>\n",
       "      <th>2016-09-02 15:30:12</th>\n",
       "      <td>1461.5</td>\n",
       "      <td>35</td>\n",
       "    </tr>\n",
       "    <tr>\n",
       "      <th>2016-09-02 15:30:13</th>\n",
       "      <td>1464.5</td>\n",
       "      <td>7</td>\n",
       "    </tr>\n",
       "    <tr>\n",
       "      <th>2016-09-02 15:33:34</th>\n",
       "      <td>1464.5</td>\n",
       "      <td>191</td>\n",
       "    </tr>\n",
       "    <tr>\n",
       "      <th>2016-09-02 16:03:59</th>\n",
       "      <td>1466.5</td>\n",
       "      <td>170</td>\n",
       "    </tr>\n",
       "    <tr>\n",
       "      <th>2016-09-02 16:28:00</th>\n",
       "      <td>1462.5</td>\n",
       "      <td>137</td>\n",
       "    </tr>\n",
       "    <tr>\n",
       "      <th>2016-09-02 16:28:00</th>\n",
       "      <td>1463.0</td>\n",
       "      <td>9</td>\n",
       "    </tr>\n",
       "    <tr>\n",
       "      <th>2016-09-02 16:28:18</th>\n",
       "      <td>1458.5</td>\n",
       "      <td>24</td>\n",
       "    </tr>\n",
       "    <tr>\n",
       "      <th>2016-09-02 16:30:36</th>\n",
       "      <td>1464.0</td>\n",
       "      <td>60</td>\n",
       "    </tr>\n",
       "    <tr>\n",
       "      <th>2016-09-02 16:30:39</th>\n",
       "      <td>1466.5</td>\n",
       "      <td>120</td>\n",
       "    </tr>\n",
       "  </tbody>\n",
       "</table>\n",
       "</div>"
      ],
      "text/plain": [
       "                      price  vol\n",
       "<DATETIME>                      \n",
       "2016-09-02 15:17:40  1460.5    5\n",
       "2016-09-02 15:30:12  1461.5   35\n",
       "2016-09-02 15:30:13  1464.5    7\n",
       "2016-09-02 15:33:34  1464.5  191\n",
       "2016-09-02 16:03:59  1466.5  170\n",
       "2016-09-02 16:28:00  1462.5  137\n",
       "2016-09-02 16:28:00  1463.0    9\n",
       "2016-09-02 16:28:18  1458.5   24\n",
       "2016-09-02 16:30:36  1464.0   60\n",
       "2016-09-02 16:30:39  1466.5  120"
      ]
     },
     "execution_count": 96,
     "metadata": {},
     "output_type": "execute_result"
    }
   ],
   "source": [
    "data.iloc[1000:1100:10]"
   ]
  },
  {
   "cell_type": "code",
   "execution_count": 97,
   "metadata": {
    "collapsed": false
   },
   "outputs": [
    {
     "name": "stdout",
     "output_type": "stream",
     "text": [
      "Datetime 2016-09-01 10:00:03, price 1430.5, vol 7.0\n"
     ]
    }
   ],
   "source": [
    "for i, row in data.iterrows():\n",
    "    print('Datetime {}, price {}, vol {}'.format(\n",
    "            row.name, row.price, row.vol\n",
    "        ))\n",
    "    break"
   ]
  },
  {
   "cell_type": "code",
   "execution_count": 98,
   "metadata": {
    "collapsed": false
   },
   "outputs": [
    {
     "data": {
      "text/html": [
       "<div>\n",
       "<table border=\"1\" class=\"dataframe\">\n",
       "  <thead>\n",
       "    <tr style=\"text-align: right;\">\n",
       "      <th></th>\n",
       "      <th>price</th>\n",
       "      <th>vol</th>\n",
       "    </tr>\n",
       "    <tr>\n",
       "      <th>&lt;DATETIME&gt;</th>\n",
       "      <th></th>\n",
       "      <th></th>\n",
       "    </tr>\n",
       "  </thead>\n",
       "  <tbody>\n",
       "    <tr>\n",
       "      <th>2016-09-06 17:13:13</th>\n",
       "      <td>1447.0</td>\n",
       "      <td>836</td>\n",
       "    </tr>\n",
       "    <tr>\n",
       "      <th>2016-09-06 17:39:28</th>\n",
       "      <td>1445.5</td>\n",
       "      <td>747</td>\n",
       "    </tr>\n",
       "    <tr>\n",
       "      <th>2016-09-06 17:42:53</th>\n",
       "      <td>1445.0</td>\n",
       "      <td>1000</td>\n",
       "    </tr>\n",
       "  </tbody>\n",
       "</table>\n",
       "</div>"
      ],
      "text/plain": [
       "                      price   vol\n",
       "<DATETIME>                       \n",
       "2016-09-06 17:13:13  1447.0   836\n",
       "2016-09-06 17:39:28  1445.5   747\n",
       "2016-09-06 17:42:53  1445.0  1000"
      ]
     },
     "execution_count": 98,
     "metadata": {},
     "output_type": "execute_result"
    }
   ],
   "source": [
    "data[(data.vol > 700) & (data.price > 1440)]"
   ]
  },
  {
   "cell_type": "code",
   "execution_count": 99,
   "metadata": {
    "collapsed": false
   },
   "outputs": [
    {
     "data": {
      "text/plain": [
       "<DATETIME>\n",
       "2016-09-01 10:00:03    False\n",
       "2016-09-01 10:00:10    False\n",
       "2016-09-01 10:00:10    False\n",
       "2016-09-01 10:00:10    False\n",
       "2016-09-01 10:00:10    False\n",
       "2016-09-01 10:00:14    False\n",
       "2016-09-01 10:00:18    False\n",
       "2016-09-01 10:00:18    False\n",
       "2016-09-01 10:00:18    False\n",
       "2016-09-01 10:00:18    False\n",
       "2016-09-01 10:00:24    False\n",
       "2016-09-01 10:00:24    False\n",
       "2016-09-01 10:00:24    False\n",
       "2016-09-01 10:00:51    False\n",
       "2016-09-01 10:00:51    False\n",
       "2016-09-01 10:00:51    False\n",
       "2016-09-01 10:00:52    False\n",
       "2016-09-01 10:00:52    False\n",
       "2016-09-01 10:01:04    False\n",
       "2016-09-01 10:01:04    False\n",
       "2016-09-01 10:01:08    False\n",
       "2016-09-01 10:01:09    False\n",
       "2016-09-01 10:01:10    False\n",
       "2016-09-01 10:02:09    False\n",
       "2016-09-01 10:02:09    False\n",
       "2016-09-01 10:02:09    False\n",
       "2016-09-01 10:02:09    False\n",
       "2016-09-01 10:02:12    False\n",
       "2016-09-01 10:02:43    False\n",
       "2016-09-01 10:02:58    False\n",
       "                       ...  \n",
       "2016-09-07 18:28:57    False\n",
       "2016-09-07 18:28:57    False\n",
       "2016-09-07 18:28:57    False\n",
       "2016-09-07 18:29:06    False\n",
       "2016-09-07 18:29:19    False\n",
       "2016-09-07 18:29:58    False\n",
       "2016-09-07 18:30:48    False\n",
       "2016-09-07 18:31:22    False\n",
       "2016-09-07 18:32:39    False\n",
       "2016-09-07 18:32:39    False\n",
       "2016-09-07 18:33:47    False\n",
       "2016-09-07 18:34:39    False\n",
       "2016-09-07 18:35:11    False\n",
       "2016-09-07 18:35:32    False\n",
       "2016-09-07 18:35:39    False\n",
       "2016-09-07 18:35:39    False\n",
       "2016-09-07 18:35:39    False\n",
       "2016-09-07 18:35:39    False\n",
       "2016-09-07 18:35:48    False\n",
       "2016-09-07 18:36:34    False\n",
       "2016-09-07 18:36:34    False\n",
       "2016-09-07 18:36:40    False\n",
       "2016-09-07 18:39:01    False\n",
       "2016-09-07 18:39:01    False\n",
       "2016-09-07 18:39:18    False\n",
       "2016-09-07 18:48:26    False\n",
       "2016-09-07 18:48:26    False\n",
       "2016-09-07 18:48:26    False\n",
       "2016-09-07 18:48:45    False\n",
       "2016-09-07 18:48:52    False\n",
       "Name: vol, dtype: bool"
      ]
     },
     "execution_count": 99,
     "metadata": {},
     "output_type": "execute_result"
    }
   ],
   "source": [
    "data.vol > 700"
   ]
  },
  {
   "cell_type": "code",
   "execution_count": 100,
   "metadata": {
    "collapsed": false
   },
   "outputs": [
    {
     "data": {
      "text/plain": [
       "63"
      ]
     },
     "metadata": {},
     "output_type": "display_data"
    }
   ],
   "source": [
    "from ipywidgets import interact\n",
    "\n",
    "@interact\n",
    "def show_deal_count(vol_threshold=(0, 1000)):\n",
    "    return len(data[data.vol > vol_threshold])"
   ]
  },
  {
   "cell_type": "code",
   "execution_count": 101,
   "metadata": {
    "collapsed": false
   },
   "outputs": [
    {
     "data": {
      "text/html": [
       "<div>\n",
       "<table border=\"1\" class=\"dataframe\">\n",
       "  <thead>\n",
       "    <tr style=\"text-align: right;\">\n",
       "      <th></th>\n",
       "      <th>price</th>\n",
       "      <th>vol</th>\n",
       "    </tr>\n",
       "    <tr>\n",
       "      <th>&lt;DATETIME&gt;</th>\n",
       "      <th></th>\n",
       "      <th></th>\n",
       "    </tr>\n",
       "  </thead>\n",
       "  <tbody>\n",
       "    <tr>\n",
       "      <th>2016-09-01 10:00:00</th>\n",
       "      <td>1434.657480</td>\n",
       "      <td>24.370079</td>\n",
       "    </tr>\n",
       "    <tr>\n",
       "      <th>2016-09-01 12:00:00</th>\n",
       "      <td>1436.693548</td>\n",
       "      <td>61.612903</td>\n",
       "    </tr>\n",
       "    <tr>\n",
       "      <th>2016-09-01 14:00:00</th>\n",
       "      <td>1436.811688</td>\n",
       "      <td>21.380952</td>\n",
       "    </tr>\n",
       "    <tr>\n",
       "      <th>2016-09-01 16:00:00</th>\n",
       "      <td>1457.742515</td>\n",
       "      <td>62.718563</td>\n",
       "    </tr>\n",
       "    <tr>\n",
       "      <th>2016-09-01 18:00:00</th>\n",
       "      <td>1461.669118</td>\n",
       "      <td>28.735294</td>\n",
       "    </tr>\n",
       "    <tr>\n",
       "      <th>2016-09-01 20:00:00</th>\n",
       "      <td>NaN</td>\n",
       "      <td>NaN</td>\n",
       "    </tr>\n",
       "    <tr>\n",
       "      <th>2016-09-01 22:00:00</th>\n",
       "      <td>NaN</td>\n",
       "      <td>NaN</td>\n",
       "    </tr>\n",
       "    <tr>\n",
       "      <th>2016-09-02 00:00:00</th>\n",
       "      <td>NaN</td>\n",
       "      <td>NaN</td>\n",
       "    </tr>\n",
       "    <tr>\n",
       "      <th>2016-09-02 02:00:00</th>\n",
       "      <td>NaN</td>\n",
       "      <td>NaN</td>\n",
       "    </tr>\n",
       "    <tr>\n",
       "      <th>2016-09-02 04:00:00</th>\n",
       "      <td>NaN</td>\n",
       "      <td>NaN</td>\n",
       "    </tr>\n",
       "    <tr>\n",
       "      <th>2016-09-02 06:00:00</th>\n",
       "      <td>NaN</td>\n",
       "      <td>NaN</td>\n",
       "    </tr>\n",
       "    <tr>\n",
       "      <th>2016-09-02 08:00:00</th>\n",
       "      <td>NaN</td>\n",
       "      <td>NaN</td>\n",
       "    </tr>\n",
       "    <tr>\n",
       "      <th>2016-09-02 10:00:00</th>\n",
       "      <td>1456.568182</td>\n",
       "      <td>38.462121</td>\n",
       "    </tr>\n",
       "    <tr>\n",
       "      <th>2016-09-02 12:00:00</th>\n",
       "      <td>1457.677778</td>\n",
       "      <td>58.933333</td>\n",
       "    </tr>\n",
       "    <tr>\n",
       "      <th>2016-09-02 14:00:00</th>\n",
       "      <td>1461.236111</td>\n",
       "      <td>42.486111</td>\n",
       "    </tr>\n",
       "  </tbody>\n",
       "</table>\n",
       "</div>"
      ],
      "text/plain": [
       "                           price        vol\n",
       "<DATETIME>                                 \n",
       "2016-09-01 10:00:00  1434.657480  24.370079\n",
       "2016-09-01 12:00:00  1436.693548  61.612903\n",
       "2016-09-01 14:00:00  1436.811688  21.380952\n",
       "2016-09-01 16:00:00  1457.742515  62.718563\n",
       "2016-09-01 18:00:00  1461.669118  28.735294\n",
       "2016-09-01 20:00:00          NaN        NaN\n",
       "2016-09-01 22:00:00          NaN        NaN\n",
       "2016-09-02 00:00:00          NaN        NaN\n",
       "2016-09-02 02:00:00          NaN        NaN\n",
       "2016-09-02 04:00:00          NaN        NaN\n",
       "2016-09-02 06:00:00          NaN        NaN\n",
       "2016-09-02 08:00:00          NaN        NaN\n",
       "2016-09-02 10:00:00  1456.568182  38.462121\n",
       "2016-09-02 12:00:00  1457.677778  58.933333\n",
       "2016-09-02 14:00:00  1461.236111  42.486111"
      ]
     },
     "execution_count": 101,
     "metadata": {},
     "output_type": "execute_result"
    }
   ],
   "source": [
    "data.resample('2H').mean().head(15)"
   ]
  },
  {
   "cell_type": "code",
   "execution_count": 102,
   "metadata": {
    "collapsed": false
   },
   "outputs": [
    {
     "data": {
      "text/html": [
       "<div>\n",
       "<table border=\"1\" class=\"dataframe\">\n",
       "  <thead>\n",
       "    <tr style=\"text-align: right;\">\n",
       "      <th></th>\n",
       "      <th>price</th>\n",
       "      <th>vol</th>\n",
       "    </tr>\n",
       "    <tr>\n",
       "      <th>&lt;DATETIME&gt;</th>\n",
       "      <th></th>\n",
       "      <th></th>\n",
       "    </tr>\n",
       "  </thead>\n",
       "  <tbody>\n",
       "    <tr>\n",
       "      <th>2016-09-01 10:00:00</th>\n",
       "      <td>1434.657480</td>\n",
       "      <td>24.370079</td>\n",
       "    </tr>\n",
       "    <tr>\n",
       "      <th>2016-09-01 12:00:00</th>\n",
       "      <td>1436.693548</td>\n",
       "      <td>61.612903</td>\n",
       "    </tr>\n",
       "    <tr>\n",
       "      <th>2016-09-01 14:00:00</th>\n",
       "      <td>1436.811688</td>\n",
       "      <td>21.380952</td>\n",
       "    </tr>\n",
       "    <tr>\n",
       "      <th>2016-09-01 16:00:00</th>\n",
       "      <td>1457.742515</td>\n",
       "      <td>62.718563</td>\n",
       "    </tr>\n",
       "    <tr>\n",
       "      <th>2016-09-01 18:00:00</th>\n",
       "      <td>1461.669118</td>\n",
       "      <td>28.735294</td>\n",
       "    </tr>\n",
       "    <tr>\n",
       "      <th>2016-09-02 10:00:00</th>\n",
       "      <td>1456.568182</td>\n",
       "      <td>38.462121</td>\n",
       "    </tr>\n",
       "    <tr>\n",
       "      <th>2016-09-02 12:00:00</th>\n",
       "      <td>1457.677778</td>\n",
       "      <td>58.933333</td>\n",
       "    </tr>\n",
       "    <tr>\n",
       "      <th>2016-09-02 14:00:00</th>\n",
       "      <td>1461.236111</td>\n",
       "      <td>42.486111</td>\n",
       "    </tr>\n",
       "    <tr>\n",
       "      <th>2016-09-02 16:00:00</th>\n",
       "      <td>1468.531716</td>\n",
       "      <td>28.365672</td>\n",
       "    </tr>\n",
       "    <tr>\n",
       "      <th>2016-09-02 18:00:00</th>\n",
       "      <td>1461.537500</td>\n",
       "      <td>21.950000</td>\n",
       "    </tr>\n",
       "  </tbody>\n",
       "</table>\n",
       "</div>"
      ],
      "text/plain": [
       "                           price        vol\n",
       "<DATETIME>                                 \n",
       "2016-09-01 10:00:00  1434.657480  24.370079\n",
       "2016-09-01 12:00:00  1436.693548  61.612903\n",
       "2016-09-01 14:00:00  1436.811688  21.380952\n",
       "2016-09-01 16:00:00  1457.742515  62.718563\n",
       "2016-09-01 18:00:00  1461.669118  28.735294\n",
       "2016-09-02 10:00:00  1456.568182  38.462121\n",
       "2016-09-02 12:00:00  1457.677778  58.933333\n",
       "2016-09-02 14:00:00  1461.236111  42.486111\n",
       "2016-09-02 16:00:00  1468.531716  28.365672\n",
       "2016-09-02 18:00:00  1461.537500  21.950000"
      ]
     },
     "execution_count": 102,
     "metadata": {},
     "output_type": "execute_result"
    }
   ],
   "source": [
    "data_gr = data.resample('2H').mean()\n",
    "data_gr[data_gr.price.notnull()].head(10)"
   ]
  },
  {
   "cell_type": "code",
   "execution_count": 103,
   "metadata": {
    "collapsed": false
   },
   "outputs": [
    {
     "data": {
      "text/html": [
       "<div>\n",
       "<table border=\"1\" class=\"dataframe\">\n",
       "  <thead>\n",
       "    <tr style=\"text-align: right;\">\n",
       "      <th></th>\n",
       "      <th>price</th>\n",
       "      <th>vol</th>\n",
       "    </tr>\n",
       "    <tr>\n",
       "      <th>&lt;DATETIME&gt;</th>\n",
       "      <th></th>\n",
       "      <th></th>\n",
       "    </tr>\n",
       "  </thead>\n",
       "  <tbody>\n",
       "    <tr>\n",
       "      <th>2016-09-01 10:00:00</th>\n",
       "      <td>1434.657480</td>\n",
       "      <td>24.370079</td>\n",
       "    </tr>\n",
       "    <tr>\n",
       "      <th>2016-09-01 12:00:00</th>\n",
       "      <td>1436.693548</td>\n",
       "      <td>61.612903</td>\n",
       "    </tr>\n",
       "    <tr>\n",
       "      <th>2016-09-01 14:00:00</th>\n",
       "      <td>1436.811688</td>\n",
       "      <td>21.380952</td>\n",
       "    </tr>\n",
       "    <tr>\n",
       "      <th>2016-09-01 16:00:00</th>\n",
       "      <td>1457.742515</td>\n",
       "      <td>62.718563</td>\n",
       "    </tr>\n",
       "    <tr>\n",
       "      <th>2016-09-01 18:00:00</th>\n",
       "      <td>1461.669118</td>\n",
       "      <td>28.735294</td>\n",
       "    </tr>\n",
       "    <tr>\n",
       "      <th>2016-09-02 10:00:00</th>\n",
       "      <td>1456.568182</td>\n",
       "      <td>38.462121</td>\n",
       "    </tr>\n",
       "    <tr>\n",
       "      <th>2016-09-02 12:00:00</th>\n",
       "      <td>1457.677778</td>\n",
       "      <td>58.933333</td>\n",
       "    </tr>\n",
       "    <tr>\n",
       "      <th>2016-09-02 14:00:00</th>\n",
       "      <td>1461.236111</td>\n",
       "      <td>42.486111</td>\n",
       "    </tr>\n",
       "    <tr>\n",
       "      <th>2016-09-02 16:00:00</th>\n",
       "      <td>1468.531716</td>\n",
       "      <td>28.365672</td>\n",
       "    </tr>\n",
       "    <tr>\n",
       "      <th>2016-09-02 18:00:00</th>\n",
       "      <td>1461.537500</td>\n",
       "      <td>21.950000</td>\n",
       "    </tr>\n",
       "  </tbody>\n",
       "</table>\n",
       "</div>"
      ],
      "text/plain": [
       "                           price        vol\n",
       "<DATETIME>                                 \n",
       "2016-09-01 10:00:00  1434.657480  24.370079\n",
       "2016-09-01 12:00:00  1436.693548  61.612903\n",
       "2016-09-01 14:00:00  1436.811688  21.380952\n",
       "2016-09-01 16:00:00  1457.742515  62.718563\n",
       "2016-09-01 18:00:00  1461.669118  28.735294\n",
       "2016-09-02 10:00:00  1456.568182  38.462121\n",
       "2016-09-02 12:00:00  1457.677778  58.933333\n",
       "2016-09-02 14:00:00  1461.236111  42.486111\n",
       "2016-09-02 16:00:00  1468.531716  28.365672\n",
       "2016-09-02 18:00:00  1461.537500  21.950000"
      ]
     },
     "execution_count": 103,
     "metadata": {},
     "output_type": "execute_result"
    }
   ],
   "source": [
    "data_gr[~data_gr.price.isnull()].head(10)"
   ]
  },
  {
   "cell_type": "code",
   "execution_count": 104,
   "metadata": {
    "collapsed": false
   },
   "outputs": [
    {
     "data": {
      "text/html": [
       "<div>\n",
       "<table border=\"1\" class=\"dataframe\">\n",
       "  <thead>\n",
       "    <tr style=\"text-align: right;\">\n",
       "      <th></th>\n",
       "      <th>price</th>\n",
       "      <th>vol</th>\n",
       "    </tr>\n",
       "    <tr>\n",
       "      <th>&lt;DATETIME&gt;</th>\n",
       "      <th></th>\n",
       "      <th></th>\n",
       "    </tr>\n",
       "  </thead>\n",
       "  <tbody>\n",
       "    <tr>\n",
       "      <th>2016-09-01 10:00:00</th>\n",
       "      <td>1434.044444</td>\n",
       "      <td>23.977778</td>\n",
       "    </tr>\n",
       "    <tr>\n",
       "      <th>2016-09-01 11:00:00</th>\n",
       "      <td>1436.148649</td>\n",
       "      <td>25.324324</td>\n",
       "    </tr>\n",
       "    <tr>\n",
       "      <th>2016-09-01 12:00:00</th>\n",
       "      <td>1436.500000</td>\n",
       "      <td>91.642857</td>\n",
       "    </tr>\n",
       "    <tr>\n",
       "      <th>2016-09-01 13:00:00</th>\n",
       "      <td>1436.852941</td>\n",
       "      <td>36.882353</td>\n",
       "    </tr>\n",
       "    <tr>\n",
       "      <th>2016-09-01 14:00:00</th>\n",
       "      <td>1444.206522</td>\n",
       "      <td>20.434783</td>\n",
       "    </tr>\n",
       "    <tr>\n",
       "      <th>2016-09-01 15:00:00</th>\n",
       "      <td>1434.972973</td>\n",
       "      <td>21.616216</td>\n",
       "    </tr>\n",
       "    <tr>\n",
       "      <th>2016-09-01 16:00:00</th>\n",
       "      <td>1449.383178</td>\n",
       "      <td>59.841121</td>\n",
       "    </tr>\n",
       "    <tr>\n",
       "      <th>2016-09-01 17:00:00</th>\n",
       "      <td>1461.682819</td>\n",
       "      <td>64.074890</td>\n",
       "    </tr>\n",
       "    <tr>\n",
       "      <th>2016-09-01 18:00:00</th>\n",
       "      <td>1461.669118</td>\n",
       "      <td>28.735294</td>\n",
       "    </tr>\n",
       "    <tr>\n",
       "      <th>2016-09-01 19:00:00</th>\n",
       "      <td>NaN</td>\n",
       "      <td>NaN</td>\n",
       "    </tr>\n",
       "  </tbody>\n",
       "</table>\n",
       "</div>"
      ],
      "text/plain": [
       "                           price        vol\n",
       "<DATETIME>                                 \n",
       "2016-09-01 10:00:00  1434.044444  23.977778\n",
       "2016-09-01 11:00:00  1436.148649  25.324324\n",
       "2016-09-01 12:00:00  1436.500000  91.642857\n",
       "2016-09-01 13:00:00  1436.852941  36.882353\n",
       "2016-09-01 14:00:00  1444.206522  20.434783\n",
       "2016-09-01 15:00:00  1434.972973  21.616216\n",
       "2016-09-01 16:00:00  1449.383178  59.841121\n",
       "2016-09-01 17:00:00  1461.682819  64.074890\n",
       "2016-09-01 18:00:00  1461.669118  28.735294\n",
       "2016-09-01 19:00:00          NaN        NaN"
      ]
     },
     "execution_count": 104,
     "metadata": {},
     "output_type": "execute_result"
    }
   ],
   "source": [
    "data.resample('1H').agg('mean').head(10)"
   ]
  },
  {
   "cell_type": "code",
   "execution_count": 105,
   "metadata": {
    "collapsed": false
   },
   "outputs": [
    {
     "data": {
      "text/html": [
       "<div>\n",
       "<table border=\"1\" class=\"dataframe\">\n",
       "  <thead>\n",
       "    <tr style=\"text-align: right;\">\n",
       "      <th></th>\n",
       "      <th>price</th>\n",
       "      <th>vol</th>\n",
       "    </tr>\n",
       "    <tr>\n",
       "      <th>&lt;DATETIME&gt;</th>\n",
       "      <th></th>\n",
       "      <th></th>\n",
       "    </tr>\n",
       "  </thead>\n",
       "  <tbody>\n",
       "    <tr>\n",
       "      <th>2016-09-01 10:00:00</th>\n",
       "      <td>1434.044444</td>\n",
       "      <td>2158.0</td>\n",
       "    </tr>\n",
       "    <tr>\n",
       "      <th>2016-09-01 11:00:00</th>\n",
       "      <td>1436.148649</td>\n",
       "      <td>937.0</td>\n",
       "    </tr>\n",
       "    <tr>\n",
       "      <th>2016-09-01 12:00:00</th>\n",
       "      <td>1436.500000</td>\n",
       "      <td>1283.0</td>\n",
       "    </tr>\n",
       "    <tr>\n",
       "      <th>2016-09-01 13:00:00</th>\n",
       "      <td>1436.852941</td>\n",
       "      <td>627.0</td>\n",
       "    </tr>\n",
       "    <tr>\n",
       "      <th>2016-09-01 14:00:00</th>\n",
       "      <td>1444.206522</td>\n",
       "      <td>940.0</td>\n",
       "    </tr>\n",
       "    <tr>\n",
       "      <th>2016-09-01 15:00:00</th>\n",
       "      <td>1434.972973</td>\n",
       "      <td>3999.0</td>\n",
       "    </tr>\n",
       "    <tr>\n",
       "      <th>2016-09-01 16:00:00</th>\n",
       "      <td>1449.383178</td>\n",
       "      <td>6403.0</td>\n",
       "    </tr>\n",
       "    <tr>\n",
       "      <th>2016-09-01 17:00:00</th>\n",
       "      <td>1461.682819</td>\n",
       "      <td>14545.0</td>\n",
       "    </tr>\n",
       "    <tr>\n",
       "      <th>2016-09-01 18:00:00</th>\n",
       "      <td>1461.669118</td>\n",
       "      <td>1954.0</td>\n",
       "    </tr>\n",
       "    <tr>\n",
       "      <th>2016-09-01 19:00:00</th>\n",
       "      <td>NaN</td>\n",
       "      <td>NaN</td>\n",
       "    </tr>\n",
       "  </tbody>\n",
       "</table>\n",
       "</div>"
      ],
      "text/plain": [
       "                           price      vol\n",
       "<DATETIME>                               \n",
       "2016-09-01 10:00:00  1434.044444   2158.0\n",
       "2016-09-01 11:00:00  1436.148649    937.0\n",
       "2016-09-01 12:00:00  1436.500000   1283.0\n",
       "2016-09-01 13:00:00  1436.852941    627.0\n",
       "2016-09-01 14:00:00  1444.206522    940.0\n",
       "2016-09-01 15:00:00  1434.972973   3999.0\n",
       "2016-09-01 16:00:00  1449.383178   6403.0\n",
       "2016-09-01 17:00:00  1461.682819  14545.0\n",
       "2016-09-01 18:00:00  1461.669118   1954.0\n",
       "2016-09-01 19:00:00          NaN      NaN"
      ]
     },
     "execution_count": 105,
     "metadata": {},
     "output_type": "execute_result"
    }
   ],
   "source": [
    "data.resample('1H').agg({\n",
    "        'vol': 'sum',\n",
    "        'price': 'mean'\n",
    "    }).head(10)"
   ]
  },
  {
   "cell_type": "code",
   "execution_count": 106,
   "metadata": {
    "collapsed": false
   },
   "outputs": [
    {
     "data": {
      "text/html": [
       "<div>\n",
       "<table border=\"1\" class=\"dataframe\">\n",
       "  <thead>\n",
       "    <tr>\n",
       "      <th></th>\n",
       "      <th colspan=\"4\" halign=\"left\">price</th>\n",
       "      <th>vol</th>\n",
       "    </tr>\n",
       "    <tr>\n",
       "      <th></th>\n",
       "      <th>price_max</th>\n",
       "      <th>price_first</th>\n",
       "      <th>price_min</th>\n",
       "      <th>price_last</th>\n",
       "      <th>sum</th>\n",
       "    </tr>\n",
       "    <tr>\n",
       "      <th>&lt;DATETIME&gt;</th>\n",
       "      <th></th>\n",
       "      <th></th>\n",
       "      <th></th>\n",
       "      <th></th>\n",
       "      <th></th>\n",
       "    </tr>\n",
       "  </thead>\n",
       "  <tbody>\n",
       "    <tr>\n",
       "      <th>2016-09-01 10:00:00</th>\n",
       "      <td>1439.0</td>\n",
       "      <td>1430.5</td>\n",
       "      <td>1430.0</td>\n",
       "      <td>1435.5</td>\n",
       "      <td>2158.0</td>\n",
       "    </tr>\n",
       "    <tr>\n",
       "      <th>2016-09-01 11:00:00</th>\n",
       "      <td>1440.0</td>\n",
       "      <td>1435.5</td>\n",
       "      <td>1434.0</td>\n",
       "      <td>1440.0</td>\n",
       "      <td>937.0</td>\n",
       "    </tr>\n",
       "    <tr>\n",
       "      <th>2016-09-01 12:00:00</th>\n",
       "      <td>1439.5</td>\n",
       "      <td>1436.5</td>\n",
       "      <td>1435.0</td>\n",
       "      <td>1436.0</td>\n",
       "      <td>1283.0</td>\n",
       "    </tr>\n",
       "    <tr>\n",
       "      <th>2016-09-01 13:00:00</th>\n",
       "      <td>1440.0</td>\n",
       "      <td>1436.5</td>\n",
       "      <td>1435.0</td>\n",
       "      <td>1440.0</td>\n",
       "      <td>627.0</td>\n",
       "    </tr>\n",
       "    <tr>\n",
       "      <th>2016-09-01 14:00:00</th>\n",
       "      <td>1448.5</td>\n",
       "      <td>1441.0</td>\n",
       "      <td>1437.5</td>\n",
       "      <td>1448.0</td>\n",
       "      <td>940.0</td>\n",
       "    </tr>\n",
       "    <tr>\n",
       "      <th>2016-09-01 15:00:00</th>\n",
       "      <td>1446.0</td>\n",
       "      <td>1442.0</td>\n",
       "      <td>1431.0</td>\n",
       "      <td>1437.5</td>\n",
       "      <td>3999.0</td>\n",
       "    </tr>\n",
       "    <tr>\n",
       "      <th>2016-09-01 16:00:00</th>\n",
       "      <td>1455.5</td>\n",
       "      <td>1440.0</td>\n",
       "      <td>1438.0</td>\n",
       "      <td>1454.5</td>\n",
       "      <td>6403.0</td>\n",
       "    </tr>\n",
       "    <tr>\n",
       "      <th>2016-09-01 17:00:00</th>\n",
       "      <td>1469.0</td>\n",
       "      <td>1456.0</td>\n",
       "      <td>1450.0</td>\n",
       "      <td>1460.5</td>\n",
       "      <td>14545.0</td>\n",
       "    </tr>\n",
       "    <tr>\n",
       "      <th>2016-09-01 18:00:00</th>\n",
       "      <td>1464.0</td>\n",
       "      <td>1459.0</td>\n",
       "      <td>1457.0</td>\n",
       "      <td>1464.0</td>\n",
       "      <td>1954.0</td>\n",
       "    </tr>\n",
       "    <tr>\n",
       "      <th>2016-09-01 19:00:00</th>\n",
       "      <td>NaN</td>\n",
       "      <td>NaN</td>\n",
       "      <td>NaN</td>\n",
       "      <td>NaN</td>\n",
       "      <td>NaN</td>\n",
       "    </tr>\n",
       "  </tbody>\n",
       "</table>\n",
       "</div>"
      ],
      "text/plain": [
       "                        price                                       vol\n",
       "                    price_max price_first price_min price_last      sum\n",
       "<DATETIME>                                                             \n",
       "2016-09-01 10:00:00    1439.0      1430.5    1430.0     1435.5   2158.0\n",
       "2016-09-01 11:00:00    1440.0      1435.5    1434.0     1440.0    937.0\n",
       "2016-09-01 12:00:00    1439.5      1436.5    1435.0     1436.0   1283.0\n",
       "2016-09-01 13:00:00    1440.0      1436.5    1435.0     1440.0    627.0\n",
       "2016-09-01 14:00:00    1448.5      1441.0    1437.5     1448.0    940.0\n",
       "2016-09-01 15:00:00    1446.0      1442.0    1431.0     1437.5   3999.0\n",
       "2016-09-01 16:00:00    1455.5      1440.0    1438.0     1454.5   6403.0\n",
       "2016-09-01 17:00:00    1469.0      1456.0    1450.0     1460.5  14545.0\n",
       "2016-09-01 18:00:00    1464.0      1459.0    1457.0     1464.0   1954.0\n",
       "2016-09-01 19:00:00       NaN         NaN       NaN        NaN      NaN"
      ]
     },
     "execution_count": 106,
     "metadata": {},
     "output_type": "execute_result"
    }
   ],
   "source": [
    "data_gr = data.resample('1H').agg({\n",
    "        'vol': 'sum',\n",
    "        'price': {\n",
    "            'price_min': 'min',\n",
    "            'price_max': 'max',\n",
    "            'price_first': 'first',\n",
    "            'price_last': 'last'\n",
    "        }\n",
    "    }).head(10)\n",
    "data_gr"
   ]
  },
  {
   "cell_type": "code",
   "execution_count": 107,
   "metadata": {
    "collapsed": false
   },
   "outputs": [],
   "source": [
    "d = data.resample('1H')\n",
    "d.agg?"
   ]
  },
  {
   "cell_type": "code",
   "execution_count": 108,
   "metadata": {
    "collapsed": false
   },
   "outputs": [
    {
     "data": {
      "text/plain": [
       "price  price_max      1439.0\n",
       "       price_first    1430.5\n",
       "       price_min      1430.0\n",
       "       price_last     1435.5\n",
       "vol    sum            2158.0\n",
       "Name: 2016-09-01 10:00:00, dtype: float64"
      ]
     },
     "execution_count": 108,
     "metadata": {},
     "output_type": "execute_result"
    }
   ],
   "source": [
    "data_gr.iloc[0]"
   ]
  },
  {
   "cell_type": "code",
   "execution_count": 109,
   "metadata": {
    "collapsed": false
   },
   "outputs": [
    {
     "data": {
      "text/html": [
       "<div>\n",
       "<table border=\"1\" class=\"dataframe\">\n",
       "  <thead>\n",
       "    <tr style=\"text-align: right;\">\n",
       "      <th></th>\n",
       "      <th>price_max</th>\n",
       "      <th>price_first</th>\n",
       "      <th>price_min</th>\n",
       "      <th>price_last</th>\n",
       "    </tr>\n",
       "    <tr>\n",
       "      <th>&lt;DATETIME&gt;</th>\n",
       "      <th></th>\n",
       "      <th></th>\n",
       "      <th></th>\n",
       "      <th></th>\n",
       "    </tr>\n",
       "  </thead>\n",
       "  <tbody>\n",
       "    <tr>\n",
       "      <th>2016-09-01 10:00:00</th>\n",
       "      <td>1439.0</td>\n",
       "      <td>1430.5</td>\n",
       "      <td>1430.0</td>\n",
       "      <td>1435.5</td>\n",
       "    </tr>\n",
       "    <tr>\n",
       "      <th>2016-09-01 11:00:00</th>\n",
       "      <td>1440.0</td>\n",
       "      <td>1435.5</td>\n",
       "      <td>1434.0</td>\n",
       "      <td>1440.0</td>\n",
       "    </tr>\n",
       "    <tr>\n",
       "      <th>2016-09-01 12:00:00</th>\n",
       "      <td>1439.5</td>\n",
       "      <td>1436.5</td>\n",
       "      <td>1435.0</td>\n",
       "      <td>1436.0</td>\n",
       "    </tr>\n",
       "    <tr>\n",
       "      <th>2016-09-01 13:00:00</th>\n",
       "      <td>1440.0</td>\n",
       "      <td>1436.5</td>\n",
       "      <td>1435.0</td>\n",
       "      <td>1440.0</td>\n",
       "    </tr>\n",
       "    <tr>\n",
       "      <th>2016-09-01 14:00:00</th>\n",
       "      <td>1448.5</td>\n",
       "      <td>1441.0</td>\n",
       "      <td>1437.5</td>\n",
       "      <td>1448.0</td>\n",
       "    </tr>\n",
       "    <tr>\n",
       "      <th>2016-09-01 15:00:00</th>\n",
       "      <td>1446.0</td>\n",
       "      <td>1442.0</td>\n",
       "      <td>1431.0</td>\n",
       "      <td>1437.5</td>\n",
       "    </tr>\n",
       "    <tr>\n",
       "      <th>2016-09-01 16:00:00</th>\n",
       "      <td>1455.5</td>\n",
       "      <td>1440.0</td>\n",
       "      <td>1438.0</td>\n",
       "      <td>1454.5</td>\n",
       "    </tr>\n",
       "    <tr>\n",
       "      <th>2016-09-01 17:00:00</th>\n",
       "      <td>1469.0</td>\n",
       "      <td>1456.0</td>\n",
       "      <td>1450.0</td>\n",
       "      <td>1460.5</td>\n",
       "    </tr>\n",
       "    <tr>\n",
       "      <th>2016-09-01 18:00:00</th>\n",
       "      <td>1464.0</td>\n",
       "      <td>1459.0</td>\n",
       "      <td>1457.0</td>\n",
       "      <td>1464.0</td>\n",
       "    </tr>\n",
       "    <tr>\n",
       "      <th>2016-09-01 19:00:00</th>\n",
       "      <td>NaN</td>\n",
       "      <td>NaN</td>\n",
       "      <td>NaN</td>\n",
       "      <td>NaN</td>\n",
       "    </tr>\n",
       "  </tbody>\n",
       "</table>\n",
       "</div>"
      ],
      "text/plain": [
       "                     price_max  price_first  price_min  price_last\n",
       "<DATETIME>                                                        \n",
       "2016-09-01 10:00:00     1439.0       1430.5     1430.0      1435.5\n",
       "2016-09-01 11:00:00     1440.0       1435.5     1434.0      1440.0\n",
       "2016-09-01 12:00:00     1439.5       1436.5     1435.0      1436.0\n",
       "2016-09-01 13:00:00     1440.0       1436.5     1435.0      1440.0\n",
       "2016-09-01 14:00:00     1448.5       1441.0     1437.5      1448.0\n",
       "2016-09-01 15:00:00     1446.0       1442.0     1431.0      1437.5\n",
       "2016-09-01 16:00:00     1455.5       1440.0     1438.0      1454.5\n",
       "2016-09-01 17:00:00     1469.0       1456.0     1450.0      1460.5\n",
       "2016-09-01 18:00:00     1464.0       1459.0     1457.0      1464.0\n",
       "2016-09-01 19:00:00        NaN          NaN        NaN         NaN"
      ]
     },
     "execution_count": 109,
     "metadata": {},
     "output_type": "execute_result"
    }
   ],
   "source": [
    "data_gr.price"
   ]
  },
  {
   "cell_type": "code",
   "execution_count": 110,
   "metadata": {
    "collapsed": false
   },
   "outputs": [
    {
     "data": {
      "text/plain": [
       "<DATETIME>\n",
       "2016-09-01 10:00:00    1430.0\n",
       "2016-09-01 11:00:00    1434.0\n",
       "2016-09-01 12:00:00    1435.0\n",
       "2016-09-01 13:00:00    1435.0\n",
       "2016-09-01 14:00:00    1437.5\n",
       "2016-09-01 15:00:00    1431.0\n",
       "2016-09-01 16:00:00    1438.0\n",
       "2016-09-01 17:00:00    1450.0\n",
       "2016-09-01 18:00:00    1457.0\n",
       "2016-09-01 19:00:00       NaN\n",
       "Freq: H, Name: price_min, dtype: float64"
      ]
     },
     "execution_count": 110,
     "metadata": {},
     "output_type": "execute_result"
    }
   ],
   "source": [
    "data_gr.price.price_min"
   ]
  }
 ],
 "metadata": {
  "kernelspec": {
   "display_name": "Python [Root]",
   "language": "python",
   "name": "Python [Root]"
  },
  "language_info": {
   "codemirror_mode": {
    "name": "ipython",
    "version": 3
   },
   "file_extension": ".py",
   "mimetype": "text/x-python",
   "name": "python",
   "nbconvert_exporter": "python",
   "pygments_lexer": "ipython3",
   "version": "3.5.2"
  },
  "nbpresent": {
   "slides": {
    "f2275b60-4dc1-47e6-95c2-f88fdfecd468": {
     "id": "f2275b60-4dc1-47e6-95c2-f88fdfecd468",
     "layout": "manual",
     "prev": null,
     "regions": {}
    }
   },
   "themes": {}
  }
 },
 "nbformat": 4,
 "nbformat_minor": 0
}
